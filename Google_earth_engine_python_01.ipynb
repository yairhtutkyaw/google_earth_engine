{
  "nbformat": 4,
  "nbformat_minor": 0,
  "metadata": {
    "colab": {
      "provenance": []
    },
    "kernelspec": {
      "name": "python3",
      "display_name": "Python 3"
    },
    "language_info": {
      "name": "python"
    },
    "widgets": {
      "application/vnd.jupyter.widget-state+json": {
        "fa1a4f73cb1e48c9839b63e410c20d9e": {
          "model_module": "jupyter-leaflet",
          "model_name": "LeafletMapModel",
          "model_module_version": "^0.17",
          "state": {
            "_dom_classes": [],
            "_model_module": "jupyter-leaflet",
            "_model_module_version": "^0.17",
            "_model_name": "LeafletMapModel",
            "_view_count": null,
            "_view_module": "jupyter-leaflet",
            "_view_module_version": "^0.17",
            "_view_name": "LeafletMapView",
            "bottom": 113116,
            "bounce_at_zoom_limits": true,
            "box_zoom": true,
            "center": [
              24.18222,
              96.33056
            ],
            "close_popup_on_click": true,
            "controls": [
              "IPY_MODEL_75133c9f60f948d991d684d51e03d0e2",
              "IPY_MODEL_764054201625476791ad1ef2fc225373",
              "IPY_MODEL_147d5defc4574ceaa5aca768e0d8430f"
            ],
            "crs": {
              "name": "EPSG3857",
              "custom": false
            },
            "default_style": "IPY_MODEL_722e9689f749429cbb35706ec7d922ac",
            "double_click_zoom": true,
            "dragging": true,
            "dragging_style": "IPY_MODEL_700b12f6f84e4be4a9a6528d12182952",
            "east": 96.8719482421875,
            "fullscreen": false,
            "inertia": true,
            "inertia_deceleration": 3000,
            "inertia_max_speed": 1500,
            "interpolation": "bilinear",
            "keyboard": true,
            "keyboard_pan_offset": 80,
            "keyboard_zoom_offset": 1,
            "layers": [
              "IPY_MODEL_25ad95e9af6c4b83a2027421ee7555dc",
              "IPY_MODEL_905d1aeb81334b91a23e1e08ddfb2a3e",
              "IPY_MODEL_5df4a9f4559d4839af6d4066c1c1e989"
            ],
            "layout": "IPY_MODEL_d219184d69f74ea1bb531115140963e4",
            "left": 200823,
            "max_zoom": null,
            "min_zoom": null,
            "modisdate": "2022-11-16",
            "north": 24.43214670001102,
            "options": [
              "bounce_at_zoom_limits",
              "box_zoom",
              "center",
              "close_popup_on_click",
              "double_click_zoom",
              "dragging",
              "fullscreen",
              "inertia",
              "inertia_deceleration",
              "inertia_max_speed",
              "interpolation",
              "keyboard",
              "keyboard_pan_offset",
              "keyboard_zoom_offset",
              "max_zoom",
              "min_zoom",
              "prefer_canvas",
              "scroll_wheel_zoom",
              "tap",
              "tap_tolerance",
              "touch_zoom",
              "world_copy_jump",
              "zoom",
              "zoom_animation_threshold",
              "zoom_delta",
              "zoom_snap"
            ],
            "panes": {},
            "prefer_canvas": false,
            "right": 201612,
            "scroll_wheel_zoom": false,
            "south": 23.93103407144254,
            "style": "IPY_MODEL_f85fcb9066ec4086b9ea88dee8833a25",
            "tap": true,
            "tap_tolerance": 15,
            "top": 112716,
            "touch_zoom": true,
            "west": 95.78842163085938,
            "window_url": "https://c34f3glcbjw-496ff2e9c6d22116-0-colab.googleusercontent.com/outputframe.html?vrz=colab-20221115-060110-RC00_488628369",
            "world_copy_jump": false,
            "zoom": 10,
            "zoom_animation_threshold": 4,
            "zoom_delta": 1,
            "zoom_snap": 1
          }
        },
        "75133c9f60f948d991d684d51e03d0e2": {
          "model_module": "jupyter-leaflet",
          "model_name": "LeafletZoomControlModel",
          "model_module_version": "^0.17",
          "state": {
            "_model_module": "jupyter-leaflet",
            "_model_module_version": "^0.17",
            "_model_name": "LeafletZoomControlModel",
            "_view_count": null,
            "_view_module": "jupyter-leaflet",
            "_view_module_version": "^0.17",
            "_view_name": "LeafletZoomControlView",
            "options": [
              "position",
              "zoom_in_text",
              "zoom_in_title",
              "zoom_out_text",
              "zoom_out_title"
            ],
            "position": "topleft",
            "zoom_in_text": "+",
            "zoom_in_title": "Zoom in",
            "zoom_out_text": "-",
            "zoom_out_title": "Zoom out"
          }
        },
        "764054201625476791ad1ef2fc225373": {
          "model_module": "jupyter-leaflet",
          "model_name": "LeafletAttributionControlModel",
          "model_module_version": "^0.17",
          "state": {
            "_model_module": "jupyter-leaflet",
            "_model_module_version": "^0.17",
            "_model_name": "LeafletAttributionControlModel",
            "_view_count": null,
            "_view_module": "jupyter-leaflet",
            "_view_module_version": "^0.17",
            "_view_name": "LeafletAttributionControlView",
            "options": [
              "position",
              "prefix"
            ],
            "position": "bottomright",
            "prefix": "ipyleaflet"
          }
        },
        "147d5defc4574ceaa5aca768e0d8430f": {
          "model_module": "jupyter-leaflet",
          "model_name": "LeafletLayersControlModel",
          "model_module_version": "^0.17",
          "state": {
            "_model_module": "jupyter-leaflet",
            "_model_module_version": "^0.17",
            "_model_name": "LeafletLayersControlModel",
            "_view_count": null,
            "_view_module": "jupyter-leaflet",
            "_view_module_version": "^0.17",
            "_view_name": "LeafletLayersControlView",
            "options": [
              "position"
            ],
            "position": "topright"
          }
        },
        "722e9689f749429cbb35706ec7d922ac": {
          "model_module": "jupyter-leaflet",
          "model_name": "LeafletMapStyleModel",
          "model_module_version": "^0.17",
          "state": {
            "_model_module": "jupyter-leaflet",
            "_model_module_version": "^0.17",
            "_model_name": "LeafletMapStyleModel",
            "_view_count": null,
            "_view_module": "@jupyter-widgets/base",
            "_view_module_version": "1.2.0",
            "_view_name": "StyleView",
            "cursor": "crosshair"
          }
        },
        "700b12f6f84e4be4a9a6528d12182952": {
          "model_module": "jupyter-leaflet",
          "model_name": "LeafletMapStyleModel",
          "model_module_version": "^0.17",
          "state": {
            "_model_module": "jupyter-leaflet",
            "_model_module_version": "^0.17",
            "_model_name": "LeafletMapStyleModel",
            "_view_count": null,
            "_view_module": "@jupyter-widgets/base",
            "_view_module_version": "1.2.0",
            "_view_name": "StyleView",
            "cursor": "move"
          }
        },
        "25ad95e9af6c4b83a2027421ee7555dc": {
          "model_module": "jupyter-leaflet",
          "model_name": "LeafletTileLayerModel",
          "model_module_version": "^0.17",
          "state": {
            "_model_module": "jupyter-leaflet",
            "_model_module_version": "^0.17",
            "_model_name": "LeafletTileLayerModel",
            "_view_count": null,
            "_view_module": "jupyter-leaflet",
            "_view_module_version": "^0.17",
            "_view_name": "LeafletTileLayerView",
            "attribution": "Map tiles by <a href=\"http://stamen.com\">Stamen Design</a>, <a href=\"http://creativecommons.org/licenses/by/3.0\">CC BY 3.0</a> &mdash; Map data &copy; <a href=\"https://www.openstreetmap.org/copyright\">OpenStreetMap</a> contributors",
            "base": true,
            "bottom": true,
            "bounds": null,
            "detect_retina": false,
            "loading": false,
            "max_native_zoom": null,
            "max_zoom": 16,
            "min_native_zoom": null,
            "min_zoom": 1,
            "name": "Stamen.Watercolor",
            "no_wrap": false,
            "opacity": 1,
            "options": [
              "attribution",
              "bounds",
              "detect_retina",
              "max_native_zoom",
              "max_zoom",
              "min_native_zoom",
              "min_zoom",
              "no_wrap",
              "tile_size",
              "tms",
              "zoom_offset"
            ],
            "pane": "",
            "popup": null,
            "popup_max_height": null,
            "popup_max_width": 300,
            "popup_min_width": 50,
            "show_loading": false,
            "subitems": [],
            "tile_size": 256,
            "tms": false,
            "url": "https://stamen-tiles-a.a.ssl.fastly.net/watercolor/{z}/{x}/{y}.jpg",
            "visible": true,
            "zoom_offset": 0
          }
        },
        "905d1aeb81334b91a23e1e08ddfb2a3e": {
          "model_module": "jupyter-leaflet",
          "model_name": "LeafletTileLayerModel",
          "model_module_version": "^0.17",
          "state": {
            "_model_module": "jupyter-leaflet",
            "_model_module_version": "^0.17",
            "_model_name": "LeafletTileLayerModel",
            "_view_count": null,
            "_view_module": "jupyter-leaflet",
            "_view_module_version": "^0.17",
            "_view_name": "LeafletTileLayerView",
            "attribution": null,
            "base": false,
            "bottom": true,
            "bounds": null,
            "detect_retina": false,
            "loading": false,
            "max_native_zoom": null,
            "max_zoom": 18,
            "min_native_zoom": null,
            "min_zoom": 0,
            "name": "elevation(greyscale)",
            "no_wrap": false,
            "opacity": 1,
            "options": [
              "attribution",
              "bounds",
              "detect_retina",
              "max_native_zoom",
              "max_zoom",
              "min_native_zoom",
              "min_zoom",
              "no_wrap",
              "tile_size",
              "tms",
              "zoom_offset"
            ],
            "pane": "",
            "popup": null,
            "popup_max_height": null,
            "popup_max_width": 300,
            "popup_min_width": 50,
            "show_loading": false,
            "subitems": [],
            "tile_size": 256,
            "tms": false,
            "url": "https://earthengine.googleapis.com/v1alpha/projects/earthengine-legacy/maps/610a63d42e5017592a00c9764f3167fa-9ec5a7811637443fa92b175b6cb575f0/tiles/{z}/{x}/{y}",
            "visible": true,
            "zoom_offset": 0
          }
        },
        "d219184d69f74ea1bb531115140963e4": {
          "model_module": "@jupyter-widgets/base",
          "model_name": "LayoutModel",
          "model_module_version": "1.2.0",
          "state": {
            "_model_module": "@jupyter-widgets/base",
            "_model_module_version": "1.2.0",
            "_model_name": "LayoutModel",
            "_view_count": null,
            "_view_module": "@jupyter-widgets/base",
            "_view_module_version": "1.2.0",
            "_view_name": "LayoutView",
            "align_content": null,
            "align_items": null,
            "align_self": null,
            "border": null,
            "bottom": null,
            "display": null,
            "flex": null,
            "flex_flow": null,
            "grid_area": null,
            "grid_auto_columns": null,
            "grid_auto_flow": null,
            "grid_auto_rows": null,
            "grid_column": null,
            "grid_gap": null,
            "grid_row": null,
            "grid_template_areas": null,
            "grid_template_columns": null,
            "grid_template_rows": null,
            "height": null,
            "justify_content": null,
            "justify_items": null,
            "left": null,
            "margin": null,
            "max_height": null,
            "max_width": null,
            "min_height": null,
            "min_width": null,
            "object_fit": null,
            "object_position": null,
            "order": null,
            "overflow": null,
            "overflow_x": null,
            "overflow_y": null,
            "padding": null,
            "right": null,
            "top": null,
            "visibility": null,
            "width": "100%"
          }
        },
        "f85fcb9066ec4086b9ea88dee8833a25": {
          "model_module": "jupyter-leaflet",
          "model_name": "LeafletMapStyleModel",
          "model_module_version": "^0.17",
          "state": {
            "_model_module": "jupyter-leaflet",
            "_model_module_version": "^0.17",
            "_model_name": "LeafletMapStyleModel",
            "_view_count": null,
            "_view_module": "@jupyter-widgets/base",
            "_view_module_version": "1.2.0",
            "_view_name": "StyleView",
            "cursor": "grab"
          }
        },
        "5df4a9f4559d4839af6d4066c1c1e989": {
          "model_module": "jupyter-leaflet",
          "model_name": "LeafletTileLayerModel",
          "model_module_version": "^0.17",
          "state": {
            "_model_module": "jupyter-leaflet",
            "_model_module_version": "^0.17",
            "_model_name": "LeafletTileLayerModel",
            "_view_count": null,
            "_view_module": "jupyter-leaflet",
            "_view_module_version": "^0.17",
            "_view_name": "LeafletTileLayerView",
            "attribution": null,
            "base": false,
            "bottom": true,
            "bounds": null,
            "detect_retina": false,
            "loading": false,
            "max_native_zoom": null,
            "max_zoom": 18,
            "min_native_zoom": null,
            "min_zoom": 0,
            "name": "elevation(custom palette)",
            "no_wrap": false,
            "opacity": 1,
            "options": [
              "attribution",
              "bounds",
              "detect_retina",
              "max_native_zoom",
              "max_zoom",
              "min_native_zoom",
              "min_zoom",
              "no_wrap",
              "tile_size",
              "tms",
              "zoom_offset"
            ],
            "pane": "",
            "popup": null,
            "popup_max_height": null,
            "popup_max_width": 300,
            "popup_min_width": 50,
            "show_loading": false,
            "subitems": [],
            "tile_size": 256,
            "tms": false,
            "url": "https://earthengine.googleapis.com/v1alpha/projects/earthengine-legacy/maps/83ae599fa948dffbf32035c5493ddcd6-fca31cf758030f44b79949175df959b8/tiles/{z}/{x}/{y}",
            "visible": true,
            "zoom_offset": 0
          }
        },
        "76fdd9839da743e5867679cf69ef5666": {
          "model_module": "jupyter-leaflet",
          "model_name": "LeafletMapModel",
          "model_module_version": "^0.17",
          "state": {
            "_dom_classes": [],
            "_model_module": "jupyter-leaflet",
            "_model_module_version": "^0.17",
            "_model_name": "LeafletMapModel",
            "_view_count": null,
            "_view_module": "jupyter-leaflet",
            "_view_module_version": "^0.17",
            "_view_name": "LeafletMapView",
            "bottom": 113116,
            "bounce_at_zoom_limits": true,
            "box_zoom": true,
            "center": [
              24.18222,
              96.33056
            ],
            "close_popup_on_click": true,
            "controls": [
              "IPY_MODEL_df2c2168a68945ba805dc0afb6a6ac80",
              "IPY_MODEL_752c3e08db894b8e886a37bb20eb1600",
              "IPY_MODEL_9026335ecab740c7a839f3c6a982adb5"
            ],
            "crs": {
              "name": "EPSG3857",
              "custom": false
            },
            "default_style": "IPY_MODEL_4e75c477a91a4c91be1933e26fef47e3",
            "double_click_zoom": true,
            "dragging": true,
            "dragging_style": "IPY_MODEL_d5e00bd9356c4db09c72edd4b3647371",
            "east": 96.60003662109376,
            "fullscreen": false,
            "inertia": true,
            "inertia_deceleration": 3000,
            "inertia_max_speed": 1500,
            "interpolation": "bilinear",
            "keyboard": true,
            "keyboard_pan_offset": 80,
            "keyboard_zoom_offset": 1,
            "layers": [
              "IPY_MODEL_4e616c87da5c4b9d9ade97bfa90fb557",
              "IPY_MODEL_d13eb571a6554b45ae26f2cebd5f03c5",
              "IPY_MODEL_6116b66c95ea40d58801284376ede06d"
            ],
            "layout": "IPY_MODEL_187804cca90f44b69f75ee7d155ef77d",
            "left": 201021,
            "max_zoom": null,
            "min_zoom": null,
            "modisdate": "2022-11-16",
            "north": 24.43214670001102,
            "options": [
              "bounce_at_zoom_limits",
              "box_zoom",
              "center",
              "close_popup_on_click",
              "double_click_zoom",
              "dragging",
              "fullscreen",
              "inertia",
              "inertia_deceleration",
              "inertia_max_speed",
              "interpolation",
              "keyboard",
              "keyboard_pan_offset",
              "keyboard_zoom_offset",
              "max_zoom",
              "min_zoom",
              "prefer_canvas",
              "scroll_wheel_zoom",
              "tap",
              "tap_tolerance",
              "touch_zoom",
              "world_copy_jump",
              "zoom",
              "zoom_animation_threshold",
              "zoom_delta",
              "zoom_snap"
            ],
            "panes": {},
            "prefer_canvas": false,
            "right": 201414,
            "scroll_wheel_zoom": false,
            "south": 23.93103407144254,
            "style": "IPY_MODEL_7a8ac33b505a497ca85777a7d2aadad9",
            "tap": true,
            "tap_tolerance": 15,
            "top": 112716,
            "touch_zoom": true,
            "west": 96.06033325195314,
            "window_url": "https://c34f3glcbjw-496ff2e9c6d22116-0-colab.googleusercontent.com/outputframe.html?vrz=colab-20221115-060110-RC00_488628369",
            "world_copy_jump": false,
            "zoom": 10,
            "zoom_animation_threshold": 4,
            "zoom_delta": 1,
            "zoom_snap": 1
          }
        },
        "df2c2168a68945ba805dc0afb6a6ac80": {
          "model_module": "jupyter-leaflet",
          "model_name": "LeafletZoomControlModel",
          "model_module_version": "^0.17",
          "state": {
            "_model_module": "jupyter-leaflet",
            "_model_module_version": "^0.17",
            "_model_name": "LeafletZoomControlModel",
            "_view_count": null,
            "_view_module": "jupyter-leaflet",
            "_view_module_version": "^0.17",
            "_view_name": "LeafletZoomControlView",
            "options": [
              "position",
              "zoom_in_text",
              "zoom_in_title",
              "zoom_out_text",
              "zoom_out_title"
            ],
            "position": "topleft",
            "zoom_in_text": "+",
            "zoom_in_title": "Zoom in",
            "zoom_out_text": "-",
            "zoom_out_title": "Zoom out"
          }
        },
        "752c3e08db894b8e886a37bb20eb1600": {
          "model_module": "jupyter-leaflet",
          "model_name": "LeafletAttributionControlModel",
          "model_module_version": "^0.17",
          "state": {
            "_model_module": "jupyter-leaflet",
            "_model_module_version": "^0.17",
            "_model_name": "LeafletAttributionControlModel",
            "_view_count": null,
            "_view_module": "jupyter-leaflet",
            "_view_module_version": "^0.17",
            "_view_name": "LeafletAttributionControlView",
            "options": [
              "position",
              "prefix"
            ],
            "position": "bottomright",
            "prefix": "ipyleaflet"
          }
        },
        "9026335ecab740c7a839f3c6a982adb5": {
          "model_module": "jupyter-leaflet",
          "model_name": "LeafletLayersControlModel",
          "model_module_version": "^0.17",
          "state": {
            "_model_module": "jupyter-leaflet",
            "_model_module_version": "^0.17",
            "_model_name": "LeafletLayersControlModel",
            "_view_count": null,
            "_view_module": "jupyter-leaflet",
            "_view_module_version": "^0.17",
            "_view_name": "LeafletLayersControlView",
            "options": [
              "position"
            ],
            "position": "topright"
          }
        },
        "4e75c477a91a4c91be1933e26fef47e3": {
          "model_module": "jupyter-leaflet",
          "model_name": "LeafletMapStyleModel",
          "model_module_version": "^0.17",
          "state": {
            "_model_module": "jupyter-leaflet",
            "_model_module_version": "^0.17",
            "_model_name": "LeafletMapStyleModel",
            "_view_count": null,
            "_view_module": "@jupyter-widgets/base",
            "_view_module_version": "1.2.0",
            "_view_name": "StyleView",
            "cursor": "crosshair"
          }
        },
        "d5e00bd9356c4db09c72edd4b3647371": {
          "model_module": "jupyter-leaflet",
          "model_name": "LeafletMapStyleModel",
          "model_module_version": "^0.17",
          "state": {
            "_model_module": "jupyter-leaflet",
            "_model_module_version": "^0.17",
            "_model_name": "LeafletMapStyleModel",
            "_view_count": null,
            "_view_module": "@jupyter-widgets/base",
            "_view_module_version": "1.2.0",
            "_view_name": "StyleView",
            "cursor": "move"
          }
        },
        "4e616c87da5c4b9d9ade97bfa90fb557": {
          "model_module": "jupyter-leaflet",
          "model_name": "LeafletTileLayerModel",
          "model_module_version": "^0.17",
          "state": {
            "_model_module": "jupyter-leaflet",
            "_model_module_version": "^0.17",
            "_model_name": "LeafletTileLayerModel",
            "_view_count": null,
            "_view_module": "jupyter-leaflet",
            "_view_module_version": "^0.17",
            "_view_name": "LeafletTileLayerView",
            "attribution": "Map tiles by <a href=\"http://stamen.com\">Stamen Design</a>, <a href=\"http://creativecommons.org/licenses/by/3.0\">CC BY 3.0</a> &mdash; Map data &copy; <a href=\"https://www.openstreetmap.org/copyright\">OpenStreetMap</a> contributors",
            "base": true,
            "bottom": true,
            "bounds": null,
            "detect_retina": false,
            "loading": false,
            "max_native_zoom": null,
            "max_zoom": 16,
            "min_native_zoom": null,
            "min_zoom": 1,
            "name": "Stamen.Watercolor",
            "no_wrap": false,
            "opacity": 1,
            "options": [
              "attribution",
              "bounds",
              "detect_retina",
              "max_native_zoom",
              "max_zoom",
              "min_native_zoom",
              "min_zoom",
              "no_wrap",
              "tile_size",
              "tms",
              "zoom_offset"
            ],
            "pane": "",
            "popup": null,
            "popup_max_height": null,
            "popup_max_width": 300,
            "popup_min_width": 50,
            "show_loading": false,
            "subitems": [],
            "tile_size": 256,
            "tms": false,
            "url": "https://stamen-tiles-a.a.ssl.fastly.net/watercolor/{z}/{x}/{y}.jpg",
            "visible": true,
            "zoom_offset": 0
          }
        },
        "d13eb571a6554b45ae26f2cebd5f03c5": {
          "model_module": "jupyter-leaflet",
          "model_name": "LeafletTileLayerModel",
          "model_module_version": "^0.17",
          "state": {
            "_model_module": "jupyter-leaflet",
            "_model_module_version": "^0.17",
            "_model_name": "LeafletTileLayerModel",
            "_view_count": null,
            "_view_module": "jupyter-leaflet",
            "_view_module_version": "^0.17",
            "_view_name": "LeafletTileLayerView",
            "attribution": null,
            "base": false,
            "bottom": true,
            "bounds": null,
            "detect_retina": false,
            "loading": false,
            "max_native_zoom": null,
            "max_zoom": 18,
            "min_native_zoom": null,
            "min_zoom": 0,
            "name": "elevation[meters]",
            "no_wrap": false,
            "opacity": 1,
            "options": [
              "attribution",
              "bounds",
              "detect_retina",
              "max_native_zoom",
              "max_zoom",
              "min_native_zoom",
              "min_zoom",
              "no_wrap",
              "tile_size",
              "tms",
              "zoom_offset"
            ],
            "pane": "",
            "popup": null,
            "popup_max_height": null,
            "popup_max_width": 300,
            "popup_min_width": 50,
            "show_loading": false,
            "subitems": [],
            "tile_size": 256,
            "tms": false,
            "url": "https://earthengine.googleapis.com/v1alpha/projects/earthengine-legacy/maps/610a63d42e5017592a00c9764f3167fa-a3618699265646d8007bdc0f53c932e0/tiles/{z}/{x}/{y}",
            "visible": true,
            "zoom_offset": 0
          }
        },
        "6116b66c95ea40d58801284376ede06d": {
          "model_module": "jupyter-leaflet",
          "model_name": "LeafletTileLayerModel",
          "model_module_version": "^0.17",
          "state": {
            "_model_module": "jupyter-leaflet",
            "_model_module_version": "^0.17",
            "_model_name": "LeafletTileLayerModel",
            "_view_count": null,
            "_view_module": "jupyter-leaflet",
            "_view_module_version": "^0.17",
            "_view_name": "LeafletTileLayerView",
            "attribution": null,
            "base": false,
            "bottom": true,
            "bounds": null,
            "detect_retina": false,
            "loading": false,
            "max_native_zoom": null,
            "max_zoom": 18,
            "min_native_zoom": null,
            "min_zoom": 0,
            "name": "slope[degrees",
            "no_wrap": false,
            "opacity": 1,
            "options": [
              "attribution",
              "bounds",
              "detect_retina",
              "max_native_zoom",
              "max_zoom",
              "min_native_zoom",
              "min_zoom",
              "no_wrap",
              "tile_size",
              "tms",
              "zoom_offset"
            ],
            "pane": "",
            "popup": null,
            "popup_max_height": null,
            "popup_max_width": 300,
            "popup_min_width": 50,
            "show_loading": false,
            "subitems": [],
            "tile_size": 256,
            "tms": false,
            "url": "https://earthengine.googleapis.com/v1alpha/projects/earthengine-legacy/maps/fb7f46c26519376b2f00f8f938d7e841-fcc74490d81e69333bc0074d4f33903b/tiles/{z}/{x}/{y}",
            "visible": true,
            "zoom_offset": 0
          }
        },
        "187804cca90f44b69f75ee7d155ef77d": {
          "model_module": "@jupyter-widgets/base",
          "model_name": "LayoutModel",
          "model_module_version": "1.2.0",
          "state": {
            "_model_module": "@jupyter-widgets/base",
            "_model_module_version": "1.2.0",
            "_model_name": "LayoutModel",
            "_view_count": null,
            "_view_module": "@jupyter-widgets/base",
            "_view_module_version": "1.2.0",
            "_view_name": "LayoutView",
            "align_content": null,
            "align_items": null,
            "align_self": null,
            "border": null,
            "bottom": null,
            "display": null,
            "flex": null,
            "flex_flow": null,
            "grid_area": null,
            "grid_auto_columns": null,
            "grid_auto_flow": null,
            "grid_auto_rows": null,
            "grid_column": null,
            "grid_gap": null,
            "grid_row": null,
            "grid_template_areas": null,
            "grid_template_columns": null,
            "grid_template_rows": null,
            "height": null,
            "justify_content": null,
            "justify_items": null,
            "left": null,
            "margin": null,
            "max_height": null,
            "max_width": null,
            "min_height": null,
            "min_width": null,
            "object_fit": null,
            "object_position": null,
            "order": null,
            "overflow": null,
            "overflow_x": null,
            "overflow_y": null,
            "padding": null,
            "right": null,
            "top": null,
            "visibility": null,
            "width": "100%"
          }
        },
        "7a8ac33b505a497ca85777a7d2aadad9": {
          "model_module": "jupyter-leaflet",
          "model_name": "LeafletMapStyleModel",
          "model_module_version": "^0.17",
          "state": {
            "_model_module": "jupyter-leaflet",
            "_model_module_version": "^0.17",
            "_model_name": "LeafletMapStyleModel",
            "_view_count": null,
            "_view_module": "@jupyter-widgets/base",
            "_view_module_version": "1.2.0",
            "_view_name": "StyleView",
            "cursor": "grab"
          }
        },
        "51297b92e55945c9910227a6e0d3a15b": {
          "model_module": "@jupyter-widgets/controls",
          "model_name": "HBoxModel",
          "model_module_version": "1.5.0",
          "state": {
            "_dom_classes": [],
            "_model_module": "@jupyter-widgets/controls",
            "_model_module_version": "1.5.0",
            "_model_name": "HBoxModel",
            "_view_count": null,
            "_view_module": "@jupyter-widgets/controls",
            "_view_module_version": "1.5.0",
            "_view_name": "HBoxView",
            "box_style": "",
            "children": [
              "IPY_MODEL_76fdd9839da743e5867679cf69ef5666",
              "IPY_MODEL_b583100dda714d59b7d80d4b117db2d5"
            ],
            "layout": "IPY_MODEL_2c1019ef90774f9ea90bfd8a7c219c4f"
          }
        },
        "b583100dda714d59b7d80d4b117db2d5": {
          "model_module": "ipytree",
          "model_name": "TreeModel",
          "model_module_version": "^0.2",
          "state": {
            "_dom_classes": [],
            "_id": "#",
            "_model_module": "ipytree",
            "_model_module_version": "^0.2",
            "_model_name": "TreeModel",
            "_view_count": null,
            "_view_module": "ipytree",
            "_view_module_version": "^0.2",
            "_view_name": "TreeView",
            "animation": 200,
            "layout": "IPY_MODEL_9e2367ad7188467aa2460f7118d85b4e",
            "multiple_selection": true,
            "nodes": [
              "IPY_MODEL_6744898ee5a244a09ee4354e2da977e7",
              "IPY_MODEL_39069e8572114a0498726d7949d337e9",
              "IPY_MODEL_8d9731c4fa8f46de8f6c523359613f11"
            ],
            "selected_nodes": []
          }
        },
        "2c1019ef90774f9ea90bfd8a7c219c4f": {
          "model_module": "@jupyter-widgets/base",
          "model_name": "LayoutModel",
          "model_module_version": "1.2.0",
          "state": {
            "_model_module": "@jupyter-widgets/base",
            "_model_module_version": "1.2.0",
            "_model_name": "LayoutModel",
            "_view_count": null,
            "_view_module": "@jupyter-widgets/base",
            "_view_module_version": "1.2.0",
            "_view_name": "LayoutView",
            "align_content": null,
            "align_items": null,
            "align_self": null,
            "border": null,
            "bottom": null,
            "display": null,
            "flex": null,
            "flex_flow": null,
            "grid_area": null,
            "grid_auto_columns": null,
            "grid_auto_flow": null,
            "grid_auto_rows": null,
            "grid_column": null,
            "grid_gap": null,
            "grid_row": null,
            "grid_template_areas": null,
            "grid_template_columns": null,
            "grid_template_rows": null,
            "height": null,
            "justify_content": null,
            "justify_items": null,
            "left": null,
            "margin": null,
            "max_height": null,
            "max_width": null,
            "min_height": null,
            "min_width": null,
            "object_fit": null,
            "object_position": null,
            "order": null,
            "overflow": null,
            "overflow_x": null,
            "overflow_y": null,
            "padding": null,
            "right": null,
            "top": null,
            "visibility": null,
            "width": null
          }
        },
        "9e2367ad7188467aa2460f7118d85b4e": {
          "model_module": "@jupyter-widgets/base",
          "model_name": "LayoutModel",
          "model_module_version": "1.2.0",
          "state": {
            "_model_module": "@jupyter-widgets/base",
            "_model_module_version": "1.2.0",
            "_model_name": "LayoutModel",
            "_view_count": null,
            "_view_module": "@jupyter-widgets/base",
            "_view_module_version": "1.2.0",
            "_view_name": "LayoutView",
            "align_content": null,
            "align_items": null,
            "align_self": null,
            "border": null,
            "bottom": null,
            "display": null,
            "flex": null,
            "flex_flow": null,
            "grid_area": null,
            "grid_auto_columns": null,
            "grid_auto_flow": null,
            "grid_auto_rows": null,
            "grid_column": null,
            "grid_gap": null,
            "grid_row": null,
            "grid_template_areas": null,
            "grid_template_columns": null,
            "grid_template_rows": null,
            "height": null,
            "justify_content": null,
            "justify_items": null,
            "left": null,
            "margin": null,
            "max_height": "400px",
            "max_width": null,
            "min_height": null,
            "min_width": null,
            "object_fit": null,
            "object_position": null,
            "order": null,
            "overflow": "scroll",
            "overflow_x": null,
            "overflow_y": null,
            "padding": null,
            "right": null,
            "top": null,
            "visibility": null,
            "width": "100%"
          }
        },
        "6744898ee5a244a09ee4354e2da977e7": {
          "model_module": "ipytree",
          "model_name": "NodeModel",
          "model_module_version": "^0.2",
          "state": {
            "_id": "85639419-98ec-494e-8472-a565c257a169",
            "_model_module": "ipytree",
            "_model_module_version": "^0.2",
            "_model_name": "NodeModel",
            "_view_count": null,
            "_view_module": "ipytree",
            "_view_module_version": "^0.2",
            "_view_name": "NodeView",
            "close_icon": "minus",
            "close_icon_style": "default",
            "disabled": false,
            "icon": "map",
            "icon_image": "",
            "icon_style": "default",
            "name": "Point",
            "nodes": [],
            "open_icon": "plus",
            "open_icon_style": "default",
            "opened": true,
            "selected": false,
            "show_icon": true
          }
        },
        "39069e8572114a0498726d7949d337e9": {
          "model_module": "ipytree",
          "model_name": "NodeModel",
          "model_module_version": "^0.2",
          "state": {
            "_id": "0f57d8e2-3c2b-422e-9f10-113703df436a",
            "_model_module": "ipytree",
            "_model_module_version": "^0.2",
            "_model_name": "NodeModel",
            "_view_count": null,
            "_view_module": "ipytree",
            "_view_module_version": "^0.2",
            "_view_name": "NodeView",
            "close_icon": "minus",
            "close_icon_style": "default",
            "disabled": false,
            "icon": "archive",
            "icon_image": "",
            "icon_style": "default",
            "name": "Pixels",
            "nodes": [],
            "open_icon": "plus",
            "open_icon_style": "default",
            "opened": true,
            "selected": false,
            "show_icon": true
          }
        },
        "8d9731c4fa8f46de8f6c523359613f11": {
          "model_module": "ipytree",
          "model_name": "NodeModel",
          "model_module_version": "^0.2",
          "state": {
            "_id": "e0c79a03-a365-4582-a176-5f87b8b2c1f4",
            "_model_module": "ipytree",
            "_model_module_version": "^0.2",
            "_model_name": "NodeModel",
            "_view_count": null,
            "_view_module": "ipytree",
            "_view_module_version": "^0.2",
            "_view_name": "NodeView",
            "close_icon": "minus",
            "close_icon_style": "default",
            "disabled": false,
            "icon": "archive",
            "icon_image": "",
            "icon_style": "default",
            "name": "Objects",
            "nodes": [],
            "open_icon": "plus",
            "open_icon_style": "default",
            "opened": true,
            "selected": false,
            "show_icon": true
          }
        },
        "5012d40ffd564928b2cd2b76ce07ded2": {
          "model_module": "@jupyter-widgets/controls",
          "model_name": "VBoxModel",
          "model_module_version": "1.5.0",
          "state": {
            "_dom_classes": [],
            "_model_module": "@jupyter-widgets/controls",
            "_model_module_version": "1.5.0",
            "_model_name": "VBoxModel",
            "_view_count": null,
            "_view_module": "@jupyter-widgets/controls",
            "_view_module_version": "1.5.0",
            "_view_name": "VBoxView",
            "box_style": "",
            "children": [
              "IPY_MODEL_e74e98c7287442e69d77f31f5ed730a7",
              "IPY_MODEL_a20a4b407618494db889e3c3c6401733"
            ],
            "layout": "IPY_MODEL_d6d1a346bb8944f6bfe8df65f57753a3"
          }
        },
        "e74e98c7287442e69d77f31f5ed730a7": {
          "model_module": "@jupyter-widgets/controls",
          "model_name": "HBoxModel",
          "model_module_version": "1.5.0",
          "state": {
            "_dom_classes": [],
            "_model_module": "@jupyter-widgets/controls",
            "_model_module_version": "1.5.0",
            "_model_name": "HBoxModel",
            "_view_count": null,
            "_view_module": "@jupyter-widgets/controls",
            "_view_module_version": "1.5.0",
            "_view_name": "HBoxView",
            "box_style": "",
            "children": [
              "IPY_MODEL_67d3b83cdf944f16a5dc01c2ca1f7e2d",
              "IPY_MODEL_e21f13d38ad544af91c91d231a372781"
            ],
            "layout": "IPY_MODEL_67719082c7fd4dc0b0f11a7d3f07aa34"
          }
        },
        "a20a4b407618494db889e3c3c6401733": {
          "model_module": "@jupyter-widgets/controls",
          "model_name": "FloatSliderModel",
          "model_module_version": "1.5.0",
          "state": {
            "_dom_classes": [],
            "_model_module": "@jupyter-widgets/controls",
            "_model_module_version": "1.5.0",
            "_model_name": "FloatSliderModel",
            "_view_count": null,
            "_view_module": "@jupyter-widgets/controls",
            "_view_module_version": "1.5.0",
            "_view_name": "FloatSliderView",
            "continuous_update": true,
            "description": "",
            "description_tooltip": null,
            "disabled": false,
            "layout": "IPY_MODEL_4065fd12667e43048c83d75b43fa669a",
            "max": 100,
            "min": 0,
            "orientation": "horizontal",
            "readout": false,
            "readout_format": ".2f",
            "step": 0.1,
            "style": "IPY_MODEL_69364bf7c42b428b9f5748c207474bc8",
            "value": 50
          }
        },
        "d6d1a346bb8944f6bfe8df65f57753a3": {
          "model_module": "@jupyter-widgets/base",
          "model_name": "LayoutModel",
          "model_module_version": "1.2.0",
          "state": {
            "_model_module": "@jupyter-widgets/base",
            "_model_module_version": "1.2.0",
            "_model_name": "LayoutModel",
            "_view_count": null,
            "_view_module": "@jupyter-widgets/base",
            "_view_module_version": "1.2.0",
            "_view_name": "LayoutView",
            "align_content": null,
            "align_items": null,
            "align_self": null,
            "border": null,
            "bottom": null,
            "display": null,
            "flex": null,
            "flex_flow": null,
            "grid_area": null,
            "grid_auto_columns": null,
            "grid_auto_flow": null,
            "grid_auto_rows": null,
            "grid_column": null,
            "grid_gap": null,
            "grid_row": null,
            "grid_template_areas": null,
            "grid_template_columns": null,
            "grid_template_rows": null,
            "height": null,
            "justify_content": null,
            "justify_items": null,
            "left": null,
            "margin": null,
            "max_height": null,
            "max_width": null,
            "min_height": null,
            "min_width": null,
            "object_fit": null,
            "object_position": null,
            "order": null,
            "overflow": null,
            "overflow_x": null,
            "overflow_y": null,
            "padding": null,
            "right": null,
            "top": null,
            "visibility": null,
            "width": null
          }
        },
        "67d3b83cdf944f16a5dc01c2ca1f7e2d": {
          "model_module": "jupyter-leaflet",
          "model_name": "LeafletMapModel",
          "model_module_version": "^0.17",
          "state": {
            "_dom_classes": [],
            "_model_module": "jupyter-leaflet",
            "_model_module_version": "^0.17",
            "_model_name": "LeafletMapModel",
            "_view_count": null,
            "_view_module": "jupyter-leaflet",
            "_view_module_version": "^0.17",
            "_view_name": "LeafletMapView",
            "bottom": 113116,
            "bounce_at_zoom_limits": true,
            "box_zoom": true,
            "center": [
              24.18222,
              96.33056
            ],
            "close_popup_on_click": true,
            "controls": [
              "IPY_MODEL_6befd1efa285413bbccb96c5323a6dcf",
              "IPY_MODEL_ccea4db15d3e4756befebb69a0ada3be",
              "IPY_MODEL_1d967cde1b1e468aa3648f38780795f8"
            ],
            "crs": {
              "name": "EPSG3857",
              "custom": false
            },
            "default_style": "IPY_MODEL_ce619d36d3a64cdf9015b77272e1d3fe",
            "double_click_zoom": true,
            "dragging": true,
            "dragging_style": "IPY_MODEL_33b8961b4f93424b9aedffbbc66838d3",
            "east": 96.86920166015626,
            "fullscreen": false,
            "inertia": true,
            "inertia_deceleration": 3000,
            "inertia_max_speed": 1500,
            "interpolation": "bilinear",
            "keyboard": true,
            "keyboard_pan_offset": 80,
            "keyboard_zoom_offset": 1,
            "layers": [
              "IPY_MODEL_00e34f41f1a54c0ebeda2e1757026925",
              "IPY_MODEL_14f509196dfc4a10acd61857083b6235",
              "IPY_MODEL_fa20c75c654a491b83e6a719014da7ff"
            ],
            "layout": "IPY_MODEL_2e1337c399904366ba93fae9ed1308bb",
            "left": 200825,
            "max_zoom": null,
            "min_zoom": null,
            "modisdate": "2022-11-16",
            "north": 24.43214670001102,
            "options": [
              "bounce_at_zoom_limits",
              "box_zoom",
              "center",
              "close_popup_on_click",
              "double_click_zoom",
              "dragging",
              "fullscreen",
              "inertia",
              "inertia_deceleration",
              "inertia_max_speed",
              "interpolation",
              "keyboard",
              "keyboard_pan_offset",
              "keyboard_zoom_offset",
              "max_zoom",
              "min_zoom",
              "prefer_canvas",
              "scroll_wheel_zoom",
              "tap",
              "tap_tolerance",
              "touch_zoom",
              "world_copy_jump",
              "zoom",
              "zoom_animation_threshold",
              "zoom_delta",
              "zoom_snap"
            ],
            "panes": {},
            "prefer_canvas": false,
            "right": 201610,
            "scroll_wheel_zoom": false,
            "south": 23.93103407144254,
            "style": "IPY_MODEL_7397fb2560334bfe833fa3c0548dee3b",
            "tap": true,
            "tap_tolerance": 15,
            "top": 112716,
            "touch_zoom": true,
            "west": 95.79116821289062,
            "window_url": "https://c34f3glcbjw-496ff2e9c6d22116-0-colab.googleusercontent.com/outputframe.html?vrz=colab-20221115-060110-RC00_488628369",
            "world_copy_jump": false,
            "zoom": 10,
            "zoom_animation_threshold": 4,
            "zoom_delta": 1,
            "zoom_snap": 1
          }
        },
        "e21f13d38ad544af91c91d231a372781": {
          "model_module": "@jupyter-widgets/controls",
          "model_name": "TabModel",
          "model_module_version": "1.5.0",
          "state": {
            "_dom_classes": [],
            "_model_module": "@jupyter-widgets/controls",
            "_model_module_version": "1.5.0",
            "_model_name": "TabModel",
            "_titles": {},
            "_view_count": null,
            "_view_module": "@jupyter-widgets/controls",
            "_view_module_version": "1.5.0",
            "_view_name": "TabView",
            "box_style": "",
            "children": [
              "IPY_MODEL_8d1baca882574514a0103aba5235a5d6",
              "IPY_MODEL_aff61ef9ecff4f088ddd0b200e202ae1"
            ],
            "layout": "IPY_MODEL_b251e30cc00e4eaa8e7dedcc3bc58006",
            "selected_index": 1
          }
        },
        "67719082c7fd4dc0b0f11a7d3f07aa34": {
          "model_module": "@jupyter-widgets/base",
          "model_name": "LayoutModel",
          "model_module_version": "1.2.0",
          "state": {
            "_model_module": "@jupyter-widgets/base",
            "_model_module_version": "1.2.0",
            "_model_name": "LayoutModel",
            "_view_count": null,
            "_view_module": "@jupyter-widgets/base",
            "_view_module_version": "1.2.0",
            "_view_name": "LayoutView",
            "align_content": null,
            "align_items": null,
            "align_self": null,
            "border": null,
            "bottom": null,
            "display": null,
            "flex": null,
            "flex_flow": null,
            "grid_area": null,
            "grid_auto_columns": null,
            "grid_auto_flow": null,
            "grid_auto_rows": null,
            "grid_column": null,
            "grid_gap": null,
            "grid_row": null,
            "grid_template_areas": null,
            "grid_template_columns": null,
            "grid_template_rows": null,
            "height": null,
            "justify_content": null,
            "justify_items": null,
            "left": null,
            "margin": null,
            "max_height": null,
            "max_width": null,
            "min_height": null,
            "min_width": null,
            "object_fit": null,
            "object_position": null,
            "order": null,
            "overflow": null,
            "overflow_x": null,
            "overflow_y": null,
            "padding": null,
            "right": null,
            "top": null,
            "visibility": null,
            "width": null
          }
        },
        "4065fd12667e43048c83d75b43fa669a": {
          "model_module": "@jupyter-widgets/base",
          "model_name": "LayoutModel",
          "model_module_version": "1.2.0",
          "state": {
            "_model_module": "@jupyter-widgets/base",
            "_model_module_version": "1.2.0",
            "_model_name": "LayoutModel",
            "_view_count": null,
            "_view_module": "@jupyter-widgets/base",
            "_view_module_version": "1.2.0",
            "_view_name": "LayoutView",
            "align_content": null,
            "align_items": null,
            "align_self": null,
            "border": null,
            "bottom": null,
            "display": null,
            "flex": null,
            "flex_flow": null,
            "grid_area": null,
            "grid_auto_columns": null,
            "grid_auto_flow": null,
            "grid_auto_rows": null,
            "grid_column": null,
            "grid_gap": null,
            "grid_row": null,
            "grid_template_areas": null,
            "grid_template_columns": null,
            "grid_template_rows": null,
            "height": null,
            "justify_content": null,
            "justify_items": null,
            "left": null,
            "margin": null,
            "max_height": null,
            "max_width": null,
            "min_height": null,
            "min_width": null,
            "object_fit": null,
            "object_position": null,
            "order": null,
            "overflow": null,
            "overflow_x": null,
            "overflow_y": null,
            "padding": null,
            "right": null,
            "top": null,
            "visibility": null,
            "width": "100%"
          }
        },
        "69364bf7c42b428b9f5748c207474bc8": {
          "model_module": "@jupyter-widgets/controls",
          "model_name": "SliderStyleModel",
          "model_module_version": "1.5.0",
          "state": {
            "_model_module": "@jupyter-widgets/controls",
            "_model_module_version": "1.5.0",
            "_model_name": "SliderStyleModel",
            "_view_count": null,
            "_view_module": "@jupyter-widgets/base",
            "_view_module_version": "1.2.0",
            "_view_name": "StyleView",
            "description_width": "",
            "handle_color": null
          }
        },
        "8d1baca882574514a0103aba5235a5d6": {
          "model_module": "ipytree",
          "model_name": "TreeModel",
          "model_module_version": "^0.2",
          "state": {
            "_dom_classes": [],
            "_id": "#",
            "_model_module": "ipytree",
            "_model_module_version": "^0.2",
            "_model_name": "TreeModel",
            "_view_count": null,
            "_view_module": "ipytree",
            "_view_module_version": "^0.2",
            "_view_name": "TreeView",
            "animation": 200,
            "layout": "IPY_MODEL_95cd984b0c284fd3b98c5dc433e1a062",
            "multiple_selection": true,
            "nodes": [
              "IPY_MODEL_e9bf991c3e764f6f840454a8ab330774",
              "IPY_MODEL_91dfe5a3859847f8a8e02e315b16b37c",
              "IPY_MODEL_729540e8195b4eed8ed4429cfc516233"
            ],
            "selected_nodes": []
          }
        },
        "aff61ef9ecff4f088ddd0b200e202ae1": {
          "model_module": "@jupyter-widgets/output",
          "model_name": "OutputModel",
          "model_module_version": "1.0.0",
          "state": {
            "_dom_classes": [],
            "_model_module": "@jupyter-widgets/output",
            "_model_module_version": "1.0.0",
            "_model_name": "OutputModel",
            "_view_count": null,
            "_view_module": "@jupyter-widgets/output",
            "_view_module_version": "1.0.0",
            "_view_name": "OutputView",
            "layout": "IPY_MODEL_c05d509ab2a94360b8a4211f84c77fb0",
            "msg_id": "",
            "outputs": []
          }
        },
        "b251e30cc00e4eaa8e7dedcc3bc58006": {
          "model_module": "@jupyter-widgets/base",
          "model_name": "LayoutModel",
          "model_module_version": "1.2.0",
          "state": {
            "_model_module": "@jupyter-widgets/base",
            "_model_module_version": "1.2.0",
            "_model_name": "LayoutModel",
            "_view_count": null,
            "_view_module": "@jupyter-widgets/base",
            "_view_module_version": "1.2.0",
            "_view_name": "LayoutView",
            "align_content": null,
            "align_items": null,
            "align_self": null,
            "border": null,
            "bottom": null,
            "display": null,
            "flex": null,
            "flex_flow": null,
            "grid_area": null,
            "grid_auto_columns": null,
            "grid_auto_flow": null,
            "grid_auto_rows": null,
            "grid_column": null,
            "grid_gap": null,
            "grid_row": null,
            "grid_template_areas": null,
            "grid_template_columns": null,
            "grid_template_rows": null,
            "height": null,
            "justify_content": null,
            "justify_items": null,
            "left": null,
            "margin": null,
            "max_height": null,
            "max_width": null,
            "min_height": null,
            "min_width": null,
            "object_fit": null,
            "object_position": null,
            "order": null,
            "overflow": null,
            "overflow_x": null,
            "overflow_y": null,
            "padding": null,
            "right": null,
            "top": null,
            "visibility": null,
            "width": "50.0%"
          }
        },
        "c05d509ab2a94360b8a4211f84c77fb0": {
          "model_module": "@jupyter-widgets/base",
          "model_name": "LayoutModel",
          "model_module_version": "1.2.0",
          "state": {
            "_model_module": "@jupyter-widgets/base",
            "_model_module_version": "1.2.0",
            "_model_name": "LayoutModel",
            "_view_count": null,
            "_view_module": "@jupyter-widgets/base",
            "_view_module_version": "1.2.0",
            "_view_name": "LayoutView",
            "align_content": null,
            "align_items": null,
            "align_self": null,
            "border": null,
            "bottom": null,
            "display": null,
            "flex": null,
            "flex_flow": null,
            "grid_area": null,
            "grid_auto_columns": null,
            "grid_auto_flow": null,
            "grid_auto_rows": null,
            "grid_column": null,
            "grid_gap": null,
            "grid_row": null,
            "grid_template_areas": null,
            "grid_template_columns": null,
            "grid_template_rows": null,
            "height": null,
            "justify_content": null,
            "justify_items": null,
            "left": null,
            "margin": null,
            "max_height": null,
            "max_width": null,
            "min_height": null,
            "min_width": null,
            "object_fit": null,
            "object_position": null,
            "order": null,
            "overflow": null,
            "overflow_x": null,
            "overflow_y": null,
            "padding": null,
            "right": null,
            "top": null,
            "visibility": null,
            "width": null
          }
        },
        "6befd1efa285413bbccb96c5323a6dcf": {
          "model_module": "jupyter-leaflet",
          "model_name": "LeafletZoomControlModel",
          "model_module_version": "^0.17",
          "state": {
            "_model_module": "jupyter-leaflet",
            "_model_module_version": "^0.17",
            "_model_name": "LeafletZoomControlModel",
            "_view_count": null,
            "_view_module": "jupyter-leaflet",
            "_view_module_version": "^0.17",
            "_view_name": "LeafletZoomControlView",
            "options": [
              "position",
              "zoom_in_text",
              "zoom_in_title",
              "zoom_out_text",
              "zoom_out_title"
            ],
            "position": "topleft",
            "zoom_in_text": "+",
            "zoom_in_title": "Zoom in",
            "zoom_out_text": "-",
            "zoom_out_title": "Zoom out"
          }
        },
        "ccea4db15d3e4756befebb69a0ada3be": {
          "model_module": "jupyter-leaflet",
          "model_name": "LeafletAttributionControlModel",
          "model_module_version": "^0.17",
          "state": {
            "_model_module": "jupyter-leaflet",
            "_model_module_version": "^0.17",
            "_model_name": "LeafletAttributionControlModel",
            "_view_count": null,
            "_view_module": "jupyter-leaflet",
            "_view_module_version": "^0.17",
            "_view_name": "LeafletAttributionControlView",
            "options": [
              "position",
              "prefix"
            ],
            "position": "bottomright",
            "prefix": "ipyleaflet"
          }
        },
        "1d967cde1b1e468aa3648f38780795f8": {
          "model_module": "jupyter-leaflet",
          "model_name": "LeafletLayersControlModel",
          "model_module_version": "^0.17",
          "state": {
            "_model_module": "jupyter-leaflet",
            "_model_module_version": "^0.17",
            "_model_name": "LeafletLayersControlModel",
            "_view_count": null,
            "_view_module": "jupyter-leaflet",
            "_view_module_version": "^0.17",
            "_view_name": "LeafletLayersControlView",
            "options": [
              "position"
            ],
            "position": "topright"
          }
        },
        "ce619d36d3a64cdf9015b77272e1d3fe": {
          "model_module": "jupyter-leaflet",
          "model_name": "LeafletMapStyleModel",
          "model_module_version": "^0.17",
          "state": {
            "_model_module": "jupyter-leaflet",
            "_model_module_version": "^0.17",
            "_model_name": "LeafletMapStyleModel",
            "_view_count": null,
            "_view_module": "@jupyter-widgets/base",
            "_view_module_version": "1.2.0",
            "_view_name": "StyleView",
            "cursor": "crosshair"
          }
        },
        "33b8961b4f93424b9aedffbbc66838d3": {
          "model_module": "jupyter-leaflet",
          "model_name": "LeafletMapStyleModel",
          "model_module_version": "^0.17",
          "state": {
            "_model_module": "jupyter-leaflet",
            "_model_module_version": "^0.17",
            "_model_name": "LeafletMapStyleModel",
            "_view_count": null,
            "_view_module": "@jupyter-widgets/base",
            "_view_module_version": "1.2.0",
            "_view_name": "StyleView",
            "cursor": "move"
          }
        },
        "00e34f41f1a54c0ebeda2e1757026925": {
          "model_module": "jupyter-leaflet",
          "model_name": "LeafletTileLayerModel",
          "model_module_version": "^0.17",
          "state": {
            "_model_module": "jupyter-leaflet",
            "_model_module_version": "^0.17",
            "_model_name": "LeafletTileLayerModel",
            "_view_count": null,
            "_view_module": "jupyter-leaflet",
            "_view_module_version": "^0.17",
            "_view_name": "LeafletTileLayerView",
            "attribution": "Map tiles by <a href=\"http://stamen.com\">Stamen Design</a>, <a href=\"http://creativecommons.org/licenses/by/3.0\">CC BY 3.0</a> &mdash; Map data &copy; <a href=\"https://www.openstreetmap.org/copyright\">OpenStreetMap</a> contributors",
            "base": true,
            "bottom": true,
            "bounds": null,
            "detect_retina": false,
            "loading": false,
            "max_native_zoom": null,
            "max_zoom": 16,
            "min_native_zoom": null,
            "min_zoom": 1,
            "name": "Stamen.Watercolor",
            "no_wrap": false,
            "opacity": 1,
            "options": [
              "attribution",
              "bounds",
              "detect_retina",
              "max_native_zoom",
              "max_zoom",
              "min_native_zoom",
              "min_zoom",
              "no_wrap",
              "tile_size",
              "tms",
              "zoom_offset"
            ],
            "pane": "",
            "popup": null,
            "popup_max_height": null,
            "popup_max_width": 300,
            "popup_min_width": 50,
            "show_loading": false,
            "subitems": [],
            "tile_size": 256,
            "tms": false,
            "url": "https://stamen-tiles-a.a.ssl.fastly.net/watercolor/{z}/{x}/{y}.jpg",
            "visible": true,
            "zoom_offset": 0
          }
        },
        "14f509196dfc4a10acd61857083b6235": {
          "model_module": "jupyter-leaflet",
          "model_name": "LeafletTileLayerModel",
          "model_module_version": "^0.17",
          "state": {
            "_model_module": "jupyter-leaflet",
            "_model_module_version": "^0.17",
            "_model_name": "LeafletTileLayerModel",
            "_view_count": null,
            "_view_module": "jupyter-leaflet",
            "_view_module_version": "^0.17",
            "_view_name": "LeafletTileLayerView",
            "attribution": null,
            "base": false,
            "bottom": true,
            "bounds": null,
            "detect_retina": false,
            "loading": false,
            "max_native_zoom": null,
            "max_zoom": 18,
            "min_native_zoom": null,
            "min_zoom": 0,
            "name": "elevation[meters]",
            "no_wrap": false,
            "opacity": 1,
            "options": [
              "attribution",
              "bounds",
              "detect_retina",
              "max_native_zoom",
              "max_zoom",
              "min_native_zoom",
              "min_zoom",
              "no_wrap",
              "tile_size",
              "tms",
              "zoom_offset"
            ],
            "pane": "",
            "popup": null,
            "popup_max_height": null,
            "popup_max_width": 300,
            "popup_min_width": 50,
            "show_loading": false,
            "subitems": [],
            "tile_size": 256,
            "tms": false,
            "url": "https://earthengine.googleapis.com/v1alpha/projects/earthengine-legacy/maps/610a63d42e5017592a00c9764f3167fa-0e8d07932d8c6ff38964ef4ea959dfe4/tiles/{z}/{x}/{y}",
            "visible": true,
            "zoom_offset": 0
          }
        },
        "fa20c75c654a491b83e6a719014da7ff": {
          "model_module": "jupyter-leaflet",
          "model_name": "LeafletTileLayerModel",
          "model_module_version": "^0.17",
          "state": {
            "_model_module": "jupyter-leaflet",
            "_model_module_version": "^0.17",
            "_model_name": "LeafletTileLayerModel",
            "_view_count": null,
            "_view_module": "jupyter-leaflet",
            "_view_module_version": "^0.17",
            "_view_name": "LeafletTileLayerView",
            "attribution": null,
            "base": false,
            "bottom": true,
            "bounds": null,
            "detect_retina": false,
            "loading": false,
            "max_native_zoom": null,
            "max_zoom": 18,
            "min_native_zoom": null,
            "min_zoom": 0,
            "name": "slope [degrees]",
            "no_wrap": false,
            "opacity": 1,
            "options": [
              "attribution",
              "bounds",
              "detect_retina",
              "max_native_zoom",
              "max_zoom",
              "min_native_zoom",
              "min_zoom",
              "no_wrap",
              "tile_size",
              "tms",
              "zoom_offset"
            ],
            "pane": "",
            "popup": null,
            "popup_max_height": null,
            "popup_max_width": 300,
            "popup_min_width": 50,
            "show_loading": false,
            "subitems": [],
            "tile_size": 256,
            "tms": false,
            "url": "https://earthengine.googleapis.com/v1alpha/projects/earthengine-legacy/maps/30c5bc42f48fbf76219ec521fdddab3d-e5a613453fe36399c3e3a03e145d7724/tiles/{z}/{x}/{y}",
            "visible": true,
            "zoom_offset": 0
          }
        },
        "2e1337c399904366ba93fae9ed1308bb": {
          "model_module": "@jupyter-widgets/base",
          "model_name": "LayoutModel",
          "model_module_version": "1.2.0",
          "state": {
            "_model_module": "@jupyter-widgets/base",
            "_model_module_version": "1.2.0",
            "_model_name": "LayoutModel",
            "_view_count": null,
            "_view_module": "@jupyter-widgets/base",
            "_view_module_version": "1.2.0",
            "_view_name": "LayoutView",
            "align_content": null,
            "align_items": null,
            "align_self": null,
            "border": null,
            "bottom": null,
            "display": null,
            "flex": null,
            "flex_flow": null,
            "grid_area": null,
            "grid_auto_columns": null,
            "grid_auto_flow": null,
            "grid_auto_rows": null,
            "grid_column": null,
            "grid_gap": null,
            "grid_row": null,
            "grid_template_areas": null,
            "grid_template_columns": null,
            "grid_template_rows": null,
            "height": null,
            "justify_content": null,
            "justify_items": null,
            "left": null,
            "margin": null,
            "max_height": null,
            "max_width": null,
            "min_height": null,
            "min_width": null,
            "object_fit": null,
            "object_position": null,
            "order": null,
            "overflow": null,
            "overflow_x": null,
            "overflow_y": null,
            "padding": null,
            "right": null,
            "top": null,
            "visibility": null,
            "width": "50.0%"
          }
        },
        "7397fb2560334bfe833fa3c0548dee3b": {
          "model_module": "jupyter-leaflet",
          "model_name": "LeafletMapStyleModel",
          "model_module_version": "^0.17",
          "state": {
            "_model_module": "jupyter-leaflet",
            "_model_module_version": "^0.17",
            "_model_name": "LeafletMapStyleModel",
            "_view_count": null,
            "_view_module": "@jupyter-widgets/base",
            "_view_module_version": "1.2.0",
            "_view_name": "StyleView",
            "cursor": "grab"
          }
        },
        "95cd984b0c284fd3b98c5dc433e1a062": {
          "model_module": "@jupyter-widgets/base",
          "model_name": "LayoutModel",
          "model_module_version": "1.2.0",
          "state": {
            "_model_module": "@jupyter-widgets/base",
            "_model_module_version": "1.2.0",
            "_model_name": "LayoutModel",
            "_view_count": null,
            "_view_module": "@jupyter-widgets/base",
            "_view_module_version": "1.2.0",
            "_view_name": "LayoutView",
            "align_content": null,
            "align_items": null,
            "align_self": null,
            "border": null,
            "bottom": null,
            "display": null,
            "flex": null,
            "flex_flow": null,
            "grid_area": null,
            "grid_auto_columns": null,
            "grid_auto_flow": null,
            "grid_auto_rows": null,
            "grid_column": null,
            "grid_gap": null,
            "grid_row": null,
            "grid_template_areas": null,
            "grid_template_columns": null,
            "grid_template_rows": null,
            "height": null,
            "justify_content": null,
            "justify_items": null,
            "left": null,
            "margin": null,
            "max_height": "400px",
            "max_width": null,
            "min_height": null,
            "min_width": null,
            "object_fit": null,
            "object_position": null,
            "order": null,
            "overflow": "scroll",
            "overflow_x": null,
            "overflow_y": null,
            "padding": null,
            "right": null,
            "top": null,
            "visibility": null,
            "width": "100%"
          }
        },
        "e9bf991c3e764f6f840454a8ab330774": {
          "model_module": "ipytree",
          "model_name": "NodeModel",
          "model_module_version": "^0.2",
          "state": {
            "_id": "132c7644-3692-4ac0-a98c-cb767e8cd750",
            "_model_module": "ipytree",
            "_model_module_version": "^0.2",
            "_model_name": "NodeModel",
            "_view_count": null,
            "_view_module": "ipytree",
            "_view_module_version": "^0.2",
            "_view_name": "NodeView",
            "close_icon": "minus",
            "close_icon_style": "default",
            "disabled": false,
            "icon": "map",
            "icon_image": "",
            "icon_style": "default",
            "name": "Point",
            "nodes": [],
            "open_icon": "plus",
            "open_icon_style": "default",
            "opened": true,
            "selected": false,
            "show_icon": true
          }
        },
        "91dfe5a3859847f8a8e02e315b16b37c": {
          "model_module": "ipytree",
          "model_name": "NodeModel",
          "model_module_version": "^0.2",
          "state": {
            "_id": "24796dbd-81b2-42e5-956c-2b88a6179712",
            "_model_module": "ipytree",
            "_model_module_version": "^0.2",
            "_model_name": "NodeModel",
            "_view_count": null,
            "_view_module": "ipytree",
            "_view_module_version": "^0.2",
            "_view_name": "NodeView",
            "close_icon": "minus",
            "close_icon_style": "default",
            "disabled": true,
            "icon": "archive",
            "icon_image": "",
            "icon_style": "default",
            "name": "Pixels",
            "nodes": [],
            "open_icon": "plus",
            "open_icon_style": "default",
            "opened": true,
            "selected": false,
            "show_icon": true
          }
        },
        "729540e8195b4eed8ed4429cfc516233": {
          "model_module": "ipytree",
          "model_name": "NodeModel",
          "model_module_version": "^0.2",
          "state": {
            "_id": "1eccf743-c5b9-475a-a16f-a96f25d5dd78",
            "_model_module": "ipytree",
            "_model_module_version": "^0.2",
            "_model_name": "NodeModel",
            "_view_count": null,
            "_view_module": "ipytree",
            "_view_module_version": "^0.2",
            "_view_name": "NodeView",
            "close_icon": "minus",
            "close_icon_style": "default",
            "disabled": true,
            "icon": "archive",
            "icon_image": "",
            "icon_style": "default",
            "name": "Objects",
            "nodes": [],
            "open_icon": "plus",
            "open_icon_style": "default",
            "opened": true,
            "selected": false,
            "show_icon": true
          }
        },
        "780c894c0ffe4487917584e5951f1f51": {
          "model_module": "@jupyter-widgets/controls",
          "model_name": "HBoxModel",
          "model_module_version": "1.5.0",
          "state": {
            "_dom_classes": [],
            "_model_module": "@jupyter-widgets/controls",
            "_model_module_version": "1.5.0",
            "_model_name": "HBoxModel",
            "_view_count": null,
            "_view_module": "@jupyter-widgets/controls",
            "_view_module_version": "1.5.0",
            "_view_name": "HBoxView",
            "box_style": "",
            "children": [
              "IPY_MODEL_c9fdc288e2d743249b3818e060658031",
              "IPY_MODEL_e0e26906cc4d4fac9bb7889a147c81ca"
            ],
            "layout": "IPY_MODEL_33058dd7f9c54018967a35630f5cc0b2"
          }
        },
        "c9fdc288e2d743249b3818e060658031": {
          "model_module": "jupyter-leaflet",
          "model_name": "LeafletMapModel",
          "model_module_version": "^0.17",
          "state": {
            "_dom_classes": [],
            "_model_module": "jupyter-leaflet",
            "_model_module_version": "^0.17",
            "_model_name": "LeafletMapModel",
            "_view_count": null,
            "_view_module": "jupyter-leaflet",
            "_view_module_version": "^0.17",
            "_view_name": "LeafletMapView",
            "bottom": 115687,
            "bounce_at_zoom_limits": true,
            "box_zoom": true,
            "center": [
              20.921162982,
              95.250332332
            ],
            "close_popup_on_click": true,
            "controls": [
              "IPY_MODEL_513f5d148ef843189aa212fdd92e007a",
              "IPY_MODEL_de06f3905ef847f1a85d02ea7fc5e0e8",
              "IPY_MODEL_f9f1c24abbf9439884236b90f45d05cc"
            ],
            "crs": {
              "name": "EPSG3857",
              "custom": false
            },
            "default_style": "IPY_MODEL_644dffd7555447d29e93c89ca7e45418",
            "double_click_zoom": true,
            "dragging": true,
            "dragging_style": "IPY_MODEL_d9b5c240a82e4681a09d77b840fdbd99",
            "east": 95.51925659179689,
            "fullscreen": false,
            "inertia": true,
            "inertia_deceleration": 3000,
            "inertia_max_speed": 1500,
            "interpolation": "bilinear",
            "keyboard": true,
            "keyboard_pan_offset": 80,
            "keyboard_zoom_offset": 1,
            "layers": [
              "IPY_MODEL_5ae341cfde274be79f16668367962090",
              "IPY_MODEL_e97ccb477d5b48dd81aeda5aefda3b11"
            ],
            "layout": "IPY_MODEL_59f7afe0d3a9428e8f62feaa7324bd46",
            "left": 200236,
            "max_zoom": null,
            "min_zoom": null,
            "modisdate": "2022-11-16",
            "north": 21.178009188927525,
            "options": [
              "bounce_at_zoom_limits",
              "box_zoom",
              "center",
              "close_popup_on_click",
              "double_click_zoom",
              "dragging",
              "fullscreen",
              "inertia",
              "inertia_deceleration",
              "inertia_max_speed",
              "interpolation",
              "keyboard",
              "keyboard_pan_offset",
              "keyboard_zoom_offset",
              "max_zoom",
              "min_zoom",
              "prefer_canvas",
              "scroll_wheel_zoom",
              "tap",
              "tap_tolerance",
              "touch_zoom",
              "world_copy_jump",
              "zoom",
              "zoom_animation_threshold",
              "zoom_delta",
              "zoom_snap"
            ],
            "panes": {},
            "prefer_canvas": false,
            "right": 200627,
            "scroll_wheel_zoom": false,
            "south": 20.66491099351189,
            "style": "IPY_MODEL_2cd48d3c62674c1cbbd02f2c70d41527",
            "tap": true,
            "tap_tolerance": 15,
            "top": 115287,
            "touch_zoom": true,
            "west": 94.9822998046875,
            "window_url": "https://c34f3glcbjw-496ff2e9c6d22116-0-colab.googleusercontent.com/outputframe.html?vrz=colab-20221115-060110-RC00_488628369",
            "world_copy_jump": false,
            "zoom": 10,
            "zoom_animation_threshold": 4,
            "zoom_delta": 1,
            "zoom_snap": 1
          }
        },
        "e0e26906cc4d4fac9bb7889a147c81ca": {
          "model_module": "jupyter-leaflet",
          "model_name": "LeafletMapModel",
          "model_module_version": "^0.17",
          "state": {
            "_dom_classes": [],
            "_model_module": "jupyter-leaflet",
            "_model_module_version": "^0.17",
            "_model_name": "LeafletMapModel",
            "_view_count": null,
            "_view_module": "jupyter-leaflet",
            "_view_module_version": "^0.17",
            "_view_name": "LeafletMapView",
            "bottom": 115687,
            "bounce_at_zoom_limits": true,
            "box_zoom": true,
            "center": [
              20.921162982,
              95.250332332
            ],
            "close_popup_on_click": true,
            "controls": [
              "IPY_MODEL_ab304dd7613d45988e544a5521aa9b57",
              "IPY_MODEL_c4da94bbde354db3b6ea57c542990c2e",
              "IPY_MODEL_96a949609a49436aa390ba00d6299071"
            ],
            "crs": {
              "name": "EPSG3857",
              "custom": false
            },
            "default_style": "IPY_MODEL_6c2b4730b23244ad896be0e6c4d22c8d",
            "double_click_zoom": true,
            "dragging": true,
            "dragging_style": "IPY_MODEL_f2998038035d427f9f38d6b5bb976486",
            "east": 95.51925659179689,
            "fullscreen": false,
            "inertia": true,
            "inertia_deceleration": 3000,
            "inertia_max_speed": 1500,
            "interpolation": "bilinear",
            "keyboard": true,
            "keyboard_pan_offset": 80,
            "keyboard_zoom_offset": 1,
            "layers": [
              "IPY_MODEL_6e0c51dcee354ec8b6e00a0e4926c3f2",
              "IPY_MODEL_676d52e0b4ef47968a6d1f223cfa1f09"
            ],
            "layout": "IPY_MODEL_82dfa8e0d47444a6b1cd040e5544d878",
            "left": 200236,
            "max_zoom": null,
            "min_zoom": null,
            "modisdate": "2022-11-16",
            "north": 21.178009188927525,
            "options": [
              "bounce_at_zoom_limits",
              "box_zoom",
              "center",
              "close_popup_on_click",
              "double_click_zoom",
              "dragging",
              "fullscreen",
              "inertia",
              "inertia_deceleration",
              "inertia_max_speed",
              "interpolation",
              "keyboard",
              "keyboard_pan_offset",
              "keyboard_zoom_offset",
              "max_zoom",
              "min_zoom",
              "prefer_canvas",
              "scroll_wheel_zoom",
              "tap",
              "tap_tolerance",
              "touch_zoom",
              "world_copy_jump",
              "zoom",
              "zoom_animation_threshold",
              "zoom_delta",
              "zoom_snap"
            ],
            "panes": {},
            "prefer_canvas": false,
            "right": 200627,
            "scroll_wheel_zoom": false,
            "south": 20.66491099351189,
            "style": "IPY_MODEL_4fb402ce1b2340f88defba30a0fb523a",
            "tap": true,
            "tap_tolerance": 15,
            "top": 115287,
            "touch_zoom": true,
            "west": 94.9822998046875,
            "window_url": "https://c34f3glcbjw-496ff2e9c6d22116-0-colab.googleusercontent.com/outputframe.html?vrz=colab-20221115-060110-RC00_488628369",
            "world_copy_jump": false,
            "zoom": 10,
            "zoom_animation_threshold": 4,
            "zoom_delta": 1,
            "zoom_snap": 1
          }
        },
        "33058dd7f9c54018967a35630f5cc0b2": {
          "model_module": "@jupyter-widgets/base",
          "model_name": "LayoutModel",
          "model_module_version": "1.2.0",
          "state": {
            "_model_module": "@jupyter-widgets/base",
            "_model_module_version": "1.2.0",
            "_model_name": "LayoutModel",
            "_view_count": null,
            "_view_module": "@jupyter-widgets/base",
            "_view_module_version": "1.2.0",
            "_view_name": "LayoutView",
            "align_content": null,
            "align_items": null,
            "align_self": null,
            "border": null,
            "bottom": null,
            "display": null,
            "flex": null,
            "flex_flow": null,
            "grid_area": null,
            "grid_auto_columns": null,
            "grid_auto_flow": null,
            "grid_auto_rows": null,
            "grid_column": null,
            "grid_gap": null,
            "grid_row": null,
            "grid_template_areas": null,
            "grid_template_columns": null,
            "grid_template_rows": null,
            "height": null,
            "justify_content": null,
            "justify_items": null,
            "left": null,
            "margin": null,
            "max_height": null,
            "max_width": null,
            "min_height": null,
            "min_width": null,
            "object_fit": null,
            "object_position": null,
            "order": null,
            "overflow": null,
            "overflow_x": null,
            "overflow_y": null,
            "padding": null,
            "right": null,
            "top": null,
            "visibility": null,
            "width": null
          }
        },
        "513f5d148ef843189aa212fdd92e007a": {
          "model_module": "jupyter-leaflet",
          "model_name": "LeafletZoomControlModel",
          "model_module_version": "^0.17",
          "state": {
            "_model_module": "jupyter-leaflet",
            "_model_module_version": "^0.17",
            "_model_name": "LeafletZoomControlModel",
            "_view_count": null,
            "_view_module": "jupyter-leaflet",
            "_view_module_version": "^0.17",
            "_view_name": "LeafletZoomControlView",
            "options": [
              "position",
              "zoom_in_text",
              "zoom_in_title",
              "zoom_out_text",
              "zoom_out_title"
            ],
            "position": "topleft",
            "zoom_in_text": "+",
            "zoom_in_title": "Zoom in",
            "zoom_out_text": "-",
            "zoom_out_title": "Zoom out"
          }
        },
        "de06f3905ef847f1a85d02ea7fc5e0e8": {
          "model_module": "jupyter-leaflet",
          "model_name": "LeafletAttributionControlModel",
          "model_module_version": "^0.17",
          "state": {
            "_model_module": "jupyter-leaflet",
            "_model_module_version": "^0.17",
            "_model_name": "LeafletAttributionControlModel",
            "_view_count": null,
            "_view_module": "jupyter-leaflet",
            "_view_module_version": "^0.17",
            "_view_name": "LeafletAttributionControlView",
            "options": [
              "position",
              "prefix"
            ],
            "position": "bottomright",
            "prefix": "ipyleaflet"
          }
        },
        "f9f1c24abbf9439884236b90f45d05cc": {
          "model_module": "jupyter-leaflet",
          "model_name": "LeafletLayersControlModel",
          "model_module_version": "^0.17",
          "state": {
            "_model_module": "jupyter-leaflet",
            "_model_module_version": "^0.17",
            "_model_name": "LeafletLayersControlModel",
            "_view_count": null,
            "_view_module": "jupyter-leaflet",
            "_view_module_version": "^0.17",
            "_view_name": "LeafletLayersControlView",
            "options": [
              "position"
            ],
            "position": "topright"
          }
        },
        "644dffd7555447d29e93c89ca7e45418": {
          "model_module": "jupyter-leaflet",
          "model_name": "LeafletMapStyleModel",
          "model_module_version": "^0.17",
          "state": {
            "_model_module": "jupyter-leaflet",
            "_model_module_version": "^0.17",
            "_model_name": "LeafletMapStyleModel",
            "_view_count": null,
            "_view_module": "@jupyter-widgets/base",
            "_view_module_version": "1.2.0",
            "_view_name": "StyleView",
            "cursor": "crosshair"
          }
        },
        "d9b5c240a82e4681a09d77b840fdbd99": {
          "model_module": "jupyter-leaflet",
          "model_name": "LeafletMapStyleModel",
          "model_module_version": "^0.17",
          "state": {
            "_model_module": "jupyter-leaflet",
            "_model_module_version": "^0.17",
            "_model_name": "LeafletMapStyleModel",
            "_view_count": null,
            "_view_module": "@jupyter-widgets/base",
            "_view_module_version": "1.2.0",
            "_view_name": "StyleView",
            "cursor": "move"
          }
        },
        "5ae341cfde274be79f16668367962090": {
          "model_module": "jupyter-leaflet",
          "model_name": "LeafletTileLayerModel",
          "model_module_version": "^0.17",
          "state": {
            "_model_module": "jupyter-leaflet",
            "_model_module_version": "^0.17",
            "_model_name": "LeafletTileLayerModel",
            "_view_count": null,
            "_view_module": "jupyter-leaflet",
            "_view_module_version": "^0.17",
            "_view_name": "LeafletTileLayerView",
            "attribution": "Map tiles by <a href=\"http://stamen.com\">Stamen Design</a>, <a href=\"http://creativecommons.org/licenses/by/3.0\">CC BY 3.0</a> &mdash; Map data &copy; <a href=\"https://www.openstreetmap.org/copyright\">OpenStreetMap</a> contributors",
            "base": true,
            "bottom": true,
            "bounds": null,
            "detect_retina": false,
            "loading": false,
            "max_native_zoom": null,
            "max_zoom": 16,
            "min_native_zoom": null,
            "min_zoom": 1,
            "name": "Stamen.Watercolor",
            "no_wrap": false,
            "opacity": 1,
            "options": [
              "attribution",
              "bounds",
              "detect_retina",
              "max_native_zoom",
              "max_zoom",
              "min_native_zoom",
              "min_zoom",
              "no_wrap",
              "tile_size",
              "tms",
              "zoom_offset"
            ],
            "pane": "",
            "popup": null,
            "popup_max_height": null,
            "popup_max_width": 300,
            "popup_min_width": 50,
            "show_loading": false,
            "subitems": [],
            "tile_size": 256,
            "tms": false,
            "url": "https://stamen-tiles-a.a.ssl.fastly.net/watercolor/{z}/{x}/{y}.jpg",
            "visible": true,
            "zoom_offset": 0
          }
        },
        "e97ccb477d5b48dd81aeda5aefda3b11": {
          "model_module": "jupyter-leaflet",
          "model_name": "LeafletTileLayerModel",
          "model_module_version": "^0.17",
          "state": {
            "_model_module": "jupyter-leaflet",
            "_model_module_version": "^0.17",
            "_model_name": "LeafletTileLayerModel",
            "_view_count": null,
            "_view_module": "jupyter-leaflet",
            "_view_module_version": "^0.17",
            "_view_name": "LeafletTileLayerView",
            "attribution": null,
            "base": false,
            "bottom": true,
            "bounds": null,
            "detect_retina": false,
            "loading": false,
            "max_native_zoom": null,
            "max_zoom": 18,
            "min_native_zoom": null,
            "min_zoom": 0,
            "name": "elevation [meters]",
            "no_wrap": false,
            "opacity": 1,
            "options": [
              "attribution",
              "bounds",
              "detect_retina",
              "max_native_zoom",
              "max_zoom",
              "min_native_zoom",
              "min_zoom",
              "no_wrap",
              "tile_size",
              "tms",
              "zoom_offset"
            ],
            "pane": "",
            "popup": null,
            "popup_max_height": null,
            "popup_max_width": 300,
            "popup_min_width": 50,
            "show_loading": false,
            "subitems": [],
            "tile_size": 256,
            "tms": false,
            "url": "https://earthengine.googleapis.com/v1alpha/projects/earthengine-legacy/maps/b5ef35e2e8f7514a495d8473cdda34c6-482367ce14b03ac7664f1c175916e8a3/tiles/{z}/{x}/{y}",
            "visible": true,
            "zoom_offset": 0
          }
        },
        "59f7afe0d3a9428e8f62feaa7324bd46": {
          "model_module": "@jupyter-widgets/base",
          "model_name": "LayoutModel",
          "model_module_version": "1.2.0",
          "state": {
            "_model_module": "@jupyter-widgets/base",
            "_model_module_version": "1.2.0",
            "_model_name": "LayoutModel",
            "_view_count": null,
            "_view_module": "@jupyter-widgets/base",
            "_view_module_version": "1.2.0",
            "_view_name": "LayoutView",
            "align_content": null,
            "align_items": null,
            "align_self": null,
            "border": null,
            "bottom": null,
            "display": null,
            "flex": null,
            "flex_flow": null,
            "grid_area": null,
            "grid_auto_columns": null,
            "grid_auto_flow": null,
            "grid_auto_rows": null,
            "grid_column": null,
            "grid_gap": null,
            "grid_row": null,
            "grid_template_areas": null,
            "grid_template_columns": null,
            "grid_template_rows": null,
            "height": null,
            "justify_content": null,
            "justify_items": null,
            "left": null,
            "margin": null,
            "max_height": null,
            "max_width": null,
            "min_height": null,
            "min_width": null,
            "object_fit": null,
            "object_position": null,
            "order": null,
            "overflow": null,
            "overflow_x": null,
            "overflow_y": null,
            "padding": null,
            "right": null,
            "top": null,
            "visibility": null,
            "width": "100%"
          }
        },
        "2cd48d3c62674c1cbbd02f2c70d41527": {
          "model_module": "jupyter-leaflet",
          "model_name": "LeafletMapStyleModel",
          "model_module_version": "^0.17",
          "state": {
            "_model_module": "jupyter-leaflet",
            "_model_module_version": "^0.17",
            "_model_name": "LeafletMapStyleModel",
            "_view_count": null,
            "_view_module": "@jupyter-widgets/base",
            "_view_module_version": "1.2.0",
            "_view_name": "StyleView",
            "cursor": "grab"
          }
        },
        "ab304dd7613d45988e544a5521aa9b57": {
          "model_module": "jupyter-leaflet",
          "model_name": "LeafletZoomControlModel",
          "model_module_version": "^0.17",
          "state": {
            "_model_module": "jupyter-leaflet",
            "_model_module_version": "^0.17",
            "_model_name": "LeafletZoomControlModel",
            "_view_count": null,
            "_view_module": "jupyter-leaflet",
            "_view_module_version": "^0.17",
            "_view_name": "LeafletZoomControlView",
            "options": [
              "position",
              "zoom_in_text",
              "zoom_in_title",
              "zoom_out_text",
              "zoom_out_title"
            ],
            "position": "topleft",
            "zoom_in_text": "+",
            "zoom_in_title": "Zoom in",
            "zoom_out_text": "-",
            "zoom_out_title": "Zoom out"
          }
        },
        "c4da94bbde354db3b6ea57c542990c2e": {
          "model_module": "jupyter-leaflet",
          "model_name": "LeafletAttributionControlModel",
          "model_module_version": "^0.17",
          "state": {
            "_model_module": "jupyter-leaflet",
            "_model_module_version": "^0.17",
            "_model_name": "LeafletAttributionControlModel",
            "_view_count": null,
            "_view_module": "jupyter-leaflet",
            "_view_module_version": "^0.17",
            "_view_name": "LeafletAttributionControlView",
            "options": [
              "position",
              "prefix"
            ],
            "position": "bottomright",
            "prefix": "ipyleaflet"
          }
        },
        "96a949609a49436aa390ba00d6299071": {
          "model_module": "jupyter-leaflet",
          "model_name": "LeafletLayersControlModel",
          "model_module_version": "^0.17",
          "state": {
            "_model_module": "jupyter-leaflet",
            "_model_module_version": "^0.17",
            "_model_name": "LeafletLayersControlModel",
            "_view_count": null,
            "_view_module": "jupyter-leaflet",
            "_view_module_version": "^0.17",
            "_view_name": "LeafletLayersControlView",
            "options": [
              "position"
            ],
            "position": "topright"
          }
        },
        "6c2b4730b23244ad896be0e6c4d22c8d": {
          "model_module": "jupyter-leaflet",
          "model_name": "LeafletMapStyleModel",
          "model_module_version": "^0.17",
          "state": {
            "_model_module": "jupyter-leaflet",
            "_model_module_version": "^0.17",
            "_model_name": "LeafletMapStyleModel",
            "_view_count": null,
            "_view_module": "@jupyter-widgets/base",
            "_view_module_version": "1.2.0",
            "_view_name": "StyleView",
            "cursor": "crosshair"
          }
        },
        "f2998038035d427f9f38d6b5bb976486": {
          "model_module": "jupyter-leaflet",
          "model_name": "LeafletMapStyleModel",
          "model_module_version": "^0.17",
          "state": {
            "_model_module": "jupyter-leaflet",
            "_model_module_version": "^0.17",
            "_model_name": "LeafletMapStyleModel",
            "_view_count": null,
            "_view_module": "@jupyter-widgets/base",
            "_view_module_version": "1.2.0",
            "_view_name": "StyleView",
            "cursor": "move"
          }
        },
        "6e0c51dcee354ec8b6e00a0e4926c3f2": {
          "model_module": "jupyter-leaflet",
          "model_name": "LeafletTileLayerModel",
          "model_module_version": "^0.17",
          "state": {
            "_model_module": "jupyter-leaflet",
            "_model_module_version": "^0.17",
            "_model_name": "LeafletTileLayerModel",
            "_view_count": null,
            "_view_module": "jupyter-leaflet",
            "_view_module_version": "^0.17",
            "_view_name": "LeafletTileLayerView",
            "attribution": "Map tiles by <a href=\"http://stamen.com\">Stamen Design</a>, <a href=\"http://creativecommons.org/licenses/by/3.0\">CC BY 3.0</a> &mdash; Map data &copy; <a href=\"https://www.openstreetmap.org/copyright\">OpenStreetMap</a> contributors",
            "base": true,
            "bottom": true,
            "bounds": null,
            "detect_retina": false,
            "loading": false,
            "max_native_zoom": null,
            "max_zoom": 16,
            "min_native_zoom": null,
            "min_zoom": 1,
            "name": "Stamen.Watercolor",
            "no_wrap": false,
            "opacity": 1,
            "options": [
              "attribution",
              "bounds",
              "detect_retina",
              "max_native_zoom",
              "max_zoom",
              "min_native_zoom",
              "min_zoom",
              "no_wrap",
              "tile_size",
              "tms",
              "zoom_offset"
            ],
            "pane": "",
            "popup": null,
            "popup_max_height": null,
            "popup_max_width": 300,
            "popup_min_width": 50,
            "show_loading": false,
            "subitems": [],
            "tile_size": 256,
            "tms": false,
            "url": "https://stamen-tiles-a.a.ssl.fastly.net/watercolor/{z}/{x}/{y}.jpg",
            "visible": true,
            "zoom_offset": 0
          }
        },
        "676d52e0b4ef47968a6d1f223cfa1f09": {
          "model_module": "jupyter-leaflet",
          "model_name": "LeafletTileLayerModel",
          "model_module_version": "^0.17",
          "state": {
            "_model_module": "jupyter-leaflet",
            "_model_module_version": "^0.17",
            "_model_name": "LeafletTileLayerModel",
            "_view_count": null,
            "_view_module": "jupyter-leaflet",
            "_view_module_version": "^0.17",
            "_view_name": "LeafletTileLayerView",
            "attribution": null,
            "base": false,
            "bottom": true,
            "bounds": null,
            "detect_retina": false,
            "loading": false,
            "max_native_zoom": null,
            "max_zoom": 18,
            "min_native_zoom": null,
            "min_zoom": 0,
            "name": "sine of aspect",
            "no_wrap": false,
            "opacity": 1,
            "options": [
              "attribution",
              "bounds",
              "detect_retina",
              "max_native_zoom",
              "max_zoom",
              "min_native_zoom",
              "min_zoom",
              "no_wrap",
              "tile_size",
              "tms",
              "zoom_offset"
            ],
            "pane": "",
            "popup": null,
            "popup_max_height": null,
            "popup_max_width": 300,
            "popup_min_width": 50,
            "show_loading": false,
            "subitems": [],
            "tile_size": 256,
            "tms": false,
            "url": "https://earthengine.googleapis.com/v1alpha/projects/earthengine-legacy/maps/f99e43f289c02735d7a7c5864e733fd5-719e70ca4d9f37edd5f962875a36f031/tiles/{z}/{x}/{y}",
            "visible": true,
            "zoom_offset": 0
          }
        },
        "82dfa8e0d47444a6b1cd040e5544d878": {
          "model_module": "@jupyter-widgets/base",
          "model_name": "LayoutModel",
          "model_module_version": "1.2.0",
          "state": {
            "_model_module": "@jupyter-widgets/base",
            "_model_module_version": "1.2.0",
            "_model_name": "LayoutModel",
            "_view_count": null,
            "_view_module": "@jupyter-widgets/base",
            "_view_module_version": "1.2.0",
            "_view_name": "LayoutView",
            "align_content": null,
            "align_items": null,
            "align_self": null,
            "border": null,
            "bottom": null,
            "display": null,
            "flex": null,
            "flex_flow": null,
            "grid_area": null,
            "grid_auto_columns": null,
            "grid_auto_flow": null,
            "grid_auto_rows": null,
            "grid_column": null,
            "grid_gap": null,
            "grid_row": null,
            "grid_template_areas": null,
            "grid_template_columns": null,
            "grid_template_rows": null,
            "height": null,
            "justify_content": null,
            "justify_items": null,
            "left": null,
            "margin": null,
            "max_height": null,
            "max_width": null,
            "min_height": null,
            "min_width": null,
            "object_fit": null,
            "object_position": null,
            "order": null,
            "overflow": null,
            "overflow_x": null,
            "overflow_y": null,
            "padding": null,
            "right": null,
            "top": null,
            "visibility": null,
            "width": "100%"
          }
        },
        "4fb402ce1b2340f88defba30a0fb523a": {
          "model_module": "jupyter-leaflet",
          "model_name": "LeafletMapStyleModel",
          "model_module_version": "^0.17",
          "state": {
            "_model_module": "jupyter-leaflet",
            "_model_module_version": "^0.17",
            "_model_name": "LeafletMapStyleModel",
            "_view_count": null,
            "_view_module": "@jupyter-widgets/base",
            "_view_module_version": "1.2.0",
            "_view_name": "StyleView",
            "cursor": "grab"
          }
        },
        "8ce19e40c616452680dd877e6167cab1": {
          "model_module": "@jupyter-widgets/controls",
          "model_name": "VBoxModel",
          "model_module_version": "1.5.0",
          "state": {
            "_dom_classes": [],
            "_model_module": "@jupyter-widgets/controls",
            "_model_module_version": "1.5.0",
            "_model_name": "VBoxModel",
            "_view_count": null,
            "_view_module": "@jupyter-widgets/controls",
            "_view_module_version": "1.5.0",
            "_view_name": "VBoxView",
            "box_style": "",
            "children": [
              "IPY_MODEL_a5ea3d4a53c54342a3979796b53d0b8d",
              "IPY_MODEL_ddcd584d19db48d2a4fd4c601b306154"
            ],
            "layout": "IPY_MODEL_8a6296dd119348648eb1e3bc4122b09c"
          }
        },
        "a5ea3d4a53c54342a3979796b53d0b8d": {
          "model_module": "jupyter-leaflet",
          "model_name": "LeafletMapModel",
          "model_module_version": "^0.17",
          "state": {
            "_dom_classes": [],
            "_model_module": "jupyter-leaflet",
            "_model_module_version": "^0.17",
            "_model_name": "LeafletMapModel",
            "_view_count": null,
            "_view_module": "jupyter-leaflet",
            "_view_module_version": "^0.17",
            "_view_name": "LeafletMapView",
            "bottom": 113106,
            "bounce_at_zoom_limits": true,
            "box_zoom": true,
            "center": [
              24.194363620393624,
              96.33018493652345
            ],
            "close_popup_on_click": true,
            "controls": [
              "IPY_MODEL_7418589026c549f19d5ab1f337d9b1a0",
              "IPY_MODEL_12c880fa4bdd47a2a2036a6f91af64f8",
              "IPY_MODEL_975ec1a61d634e169a4dabc5c11ccca5",
              "IPY_MODEL_2f1abab01d7d4da091f2f33ffa583716"
            ],
            "crs": {
              "name": "EPSG3857",
              "custom": false
            },
            "default_style": "IPY_MODEL_6c43b57886d043e990ae58317c828172",
            "double_click_zoom": true,
            "dragging": true,
            "dragging_style": "IPY_MODEL_2783f66f5bc4424f8a344e6fc70ebda4",
            "east": 96.8719482421875,
            "fullscreen": false,
            "inertia": true,
            "inertia_deceleration": 3000,
            "inertia_max_speed": 1500,
            "interpolation": "bilinear",
            "keyboard": true,
            "keyboard_pan_offset": 80,
            "keyboard_zoom_offset": 1,
            "layers": [
              "IPY_MODEL_36bf0c4552014ea49dd28ec1651e54dc",
              "IPY_MODEL_6d950450ff914c31be65cfae4b23fdfc"
            ],
            "layout": "IPY_MODEL_8a6991d2d33f466f95192cebfe8b595a",
            "left": 200823,
            "max_zoom": null,
            "min_zoom": null,
            "modisdate": "2022-11-16",
            "north": 24.44464923209822,
            "options": [
              "bounce_at_zoom_limits",
              "box_zoom",
              "center",
              "close_popup_on_click",
              "double_click_zoom",
              "dragging",
              "fullscreen",
              "inertia",
              "inertia_deceleration",
              "inertia_max_speed",
              "interpolation",
              "keyboard",
              "keyboard_pan_offset",
              "keyboard_zoom_offset",
              "max_zoom",
              "min_zoom",
              "prefer_canvas",
              "scroll_wheel_zoom",
              "tap",
              "tap_tolerance",
              "touch_zoom",
              "world_copy_jump",
              "zoom",
              "zoom_animation_threshold",
              "zoom_delta",
              "zoom_snap"
            ],
            "panes": {},
            "prefer_canvas": false,
            "right": 201612,
            "scroll_wheel_zoom": false,
            "south": 23.943585813147916,
            "style": "IPY_MODEL_6c43b57886d043e990ae58317c828172",
            "tap": true,
            "tap_tolerance": 15,
            "top": 112706,
            "touch_zoom": true,
            "west": 95.78842163085938,
            "window_url": "https://c34f3glcbjw-496ff2e9c6d22116-0-colab.googleusercontent.com/outputframe.html?vrz=colab-20221115-060110-RC00_488628369",
            "world_copy_jump": false,
            "zoom": 10,
            "zoom_animation_threshold": 4,
            "zoom_delta": 1,
            "zoom_snap": 1
          }
        },
        "ddcd584d19db48d2a4fd4c601b306154": {
          "model_module": "@jupyter-widgets/output",
          "model_name": "OutputModel",
          "model_module_version": "1.0.0",
          "state": {
            "_dom_classes": [],
            "_model_module": "@jupyter-widgets/output",
            "_model_module_version": "1.0.0",
            "_model_name": "OutputModel",
            "_view_count": null,
            "_view_module": "@jupyter-widgets/output",
            "_view_module_version": "1.0.0",
            "_view_name": "OutputView",
            "layout": "IPY_MODEL_76529fd4f868426fb9ca2db86fa9a964",
            "msg_id": "",
            "outputs": []
          }
        },
        "8a6296dd119348648eb1e3bc4122b09c": {
          "model_module": "@jupyter-widgets/base",
          "model_name": "LayoutModel",
          "model_module_version": "1.2.0",
          "state": {
            "_model_module": "@jupyter-widgets/base",
            "_model_module_version": "1.2.0",
            "_model_name": "LayoutModel",
            "_view_count": null,
            "_view_module": "@jupyter-widgets/base",
            "_view_module_version": "1.2.0",
            "_view_name": "LayoutView",
            "align_content": null,
            "align_items": null,
            "align_self": null,
            "border": null,
            "bottom": null,
            "display": null,
            "flex": null,
            "flex_flow": null,
            "grid_area": null,
            "grid_auto_columns": null,
            "grid_auto_flow": null,
            "grid_auto_rows": null,
            "grid_column": null,
            "grid_gap": null,
            "grid_row": null,
            "grid_template_areas": null,
            "grid_template_columns": null,
            "grid_template_rows": null,
            "height": null,
            "justify_content": null,
            "justify_items": null,
            "left": null,
            "margin": null,
            "max_height": null,
            "max_width": null,
            "min_height": null,
            "min_width": null,
            "object_fit": null,
            "object_position": null,
            "order": null,
            "overflow": null,
            "overflow_x": null,
            "overflow_y": null,
            "padding": null,
            "right": null,
            "top": null,
            "visibility": null,
            "width": null
          }
        },
        "76529fd4f868426fb9ca2db86fa9a964": {
          "model_module": "@jupyter-widgets/base",
          "model_name": "LayoutModel",
          "model_module_version": "1.2.0",
          "state": {
            "_model_module": "@jupyter-widgets/base",
            "_model_module_version": "1.2.0",
            "_model_name": "LayoutModel",
            "_view_count": null,
            "_view_module": "@jupyter-widgets/base",
            "_view_module_version": "1.2.0",
            "_view_name": "LayoutView",
            "align_content": null,
            "align_items": null,
            "align_self": null,
            "border": "1px solid black",
            "bottom": null,
            "display": null,
            "flex": null,
            "flex_flow": null,
            "grid_area": null,
            "grid_auto_columns": null,
            "grid_auto_flow": null,
            "grid_auto_rows": null,
            "grid_column": null,
            "grid_gap": null,
            "grid_row": null,
            "grid_template_areas": null,
            "grid_template_columns": null,
            "grid_template_rows": null,
            "height": null,
            "justify_content": null,
            "justify_items": null,
            "left": null,
            "margin": null,
            "max_height": null,
            "max_width": null,
            "min_height": null,
            "min_width": null,
            "object_fit": null,
            "object_position": null,
            "order": null,
            "overflow": null,
            "overflow_x": null,
            "overflow_y": null,
            "padding": null,
            "right": null,
            "top": null,
            "visibility": null,
            "width": "200"
          }
        },
        "7418589026c549f19d5ab1f337d9b1a0": {
          "model_module": "jupyter-leaflet",
          "model_name": "LeafletZoomControlModel",
          "model_module_version": "^0.17",
          "state": {
            "_model_module": "jupyter-leaflet",
            "_model_module_version": "^0.17",
            "_model_name": "LeafletZoomControlModel",
            "_view_count": null,
            "_view_module": "jupyter-leaflet",
            "_view_module_version": "^0.17",
            "_view_name": "LeafletZoomControlView",
            "options": [
              "position",
              "zoom_in_text",
              "zoom_in_title",
              "zoom_out_text",
              "zoom_out_title"
            ],
            "position": "topleft",
            "zoom_in_text": "+",
            "zoom_in_title": "Zoom in",
            "zoom_out_text": "-",
            "zoom_out_title": "Zoom out"
          }
        },
        "12c880fa4bdd47a2a2036a6f91af64f8": {
          "model_module": "jupyter-leaflet",
          "model_name": "LeafletAttributionControlModel",
          "model_module_version": "^0.17",
          "state": {
            "_model_module": "jupyter-leaflet",
            "_model_module_version": "^0.17",
            "_model_name": "LeafletAttributionControlModel",
            "_view_count": null,
            "_view_module": "jupyter-leaflet",
            "_view_module_version": "^0.17",
            "_view_name": "LeafletAttributionControlView",
            "options": [
              "position",
              "prefix"
            ],
            "position": "bottomright",
            "prefix": "ipyleaflet"
          }
        },
        "975ec1a61d634e169a4dabc5c11ccca5": {
          "model_module": "jupyter-leaflet",
          "model_name": "LeafletLayersControlModel",
          "model_module_version": "^0.17",
          "state": {
            "_model_module": "jupyter-leaflet",
            "_model_module_version": "^0.17",
            "_model_name": "LeafletLayersControlModel",
            "_view_count": null,
            "_view_module": "jupyter-leaflet",
            "_view_module_version": "^0.17",
            "_view_name": "LeafletLayersControlView",
            "options": [
              "position"
            ],
            "position": "topright"
          }
        },
        "2f1abab01d7d4da091f2f33ffa583716": {
          "model_module": "jupyter-leaflet",
          "model_name": "LeafletDrawControlModel",
          "model_module_version": "^0.17",
          "state": {
            "_model_module": "jupyter-leaflet",
            "_model_module_version": "^0.17",
            "_model_name": "LeafletDrawControlModel",
            "_view_count": null,
            "_view_module": "jupyter-leaflet",
            "_view_module_version": "^0.17",
            "_view_name": "LeafletDrawControlView",
            "circle": {},
            "circlemarker": {},
            "data": [
              {
                "type": "Feature",
                "properties": {
                  "style": {
                    "stroke": true,
                    "color": "#3388ff",
                    "weight": 4,
                    "opacity": 0.5,
                    "fill": true,
                    "fillColor": null,
                    "fillOpacity": 0.2,
                    "clickable": true
                  }
                },
                "geometry": {
                  "type": "Polygon",
                  "coordinates": [
                    [
                      [
                        96.265869,
                        24.261768
                      ],
                      [
                        96.262207,
                        24.342704
                      ],
                      [
                        96.373901,
                        24.35605
                      ],
                      [
                        96.405945,
                        24.310169
                      ],
                      [
                        96.38855,
                        24.260933
                      ],
                      [
                        96.378479,
                        24.23923
                      ],
                      [
                        96.265869,
                        24.261768
                      ]
                    ]
                  ]
                }
              }
            ],
            "edit": true,
            "marker": {},
            "options": [
              "position"
            ],
            "polygon": {
              "shapeOptions": {}
            },
            "polyline": {},
            "position": "topleft",
            "rectangle": {},
            "remove": true
          }
        },
        "6c43b57886d043e990ae58317c828172": {
          "model_module": "jupyter-leaflet",
          "model_name": "LeafletMapStyleModel",
          "model_module_version": "^0.17",
          "state": {
            "_model_module": "jupyter-leaflet",
            "_model_module_version": "^0.17",
            "_model_name": "LeafletMapStyleModel",
            "_view_count": null,
            "_view_module": "@jupyter-widgets/base",
            "_view_module_version": "1.2.0",
            "_view_name": "StyleView",
            "cursor": "crosshair"
          }
        },
        "2783f66f5bc4424f8a344e6fc70ebda4": {
          "model_module": "jupyter-leaflet",
          "model_name": "LeafletMapStyleModel",
          "model_module_version": "^0.17",
          "state": {
            "_model_module": "jupyter-leaflet",
            "_model_module_version": "^0.17",
            "_model_name": "LeafletMapStyleModel",
            "_view_count": null,
            "_view_module": "@jupyter-widgets/base",
            "_view_module_version": "1.2.0",
            "_view_name": "StyleView",
            "cursor": "move"
          }
        },
        "36bf0c4552014ea49dd28ec1651e54dc": {
          "model_module": "jupyter-leaflet",
          "model_name": "LeafletTileLayerModel",
          "model_module_version": "^0.17",
          "state": {
            "_model_module": "jupyter-leaflet",
            "_model_module_version": "^0.17",
            "_model_name": "LeafletTileLayerModel",
            "_view_count": null,
            "_view_module": "jupyter-leaflet",
            "_view_module_version": "^0.17",
            "_view_name": "LeafletTileLayerView",
            "attribution": "Map tiles by <a href=\"http://stamen.com\">Stamen Design</a>, <a href=\"http://creativecommons.org/licenses/by/3.0\">CC BY 3.0</a> &mdash; Map data &copy; <a href=\"https://www.openstreetmap.org/copyright\">OpenStreetMap</a> contributors",
            "base": true,
            "bottom": true,
            "bounds": null,
            "detect_retina": false,
            "loading": false,
            "max_native_zoom": null,
            "max_zoom": 16,
            "min_native_zoom": null,
            "min_zoom": 1,
            "name": "Stamen.Watercolor",
            "no_wrap": false,
            "opacity": 1,
            "options": [
              "attribution",
              "bounds",
              "detect_retina",
              "max_native_zoom",
              "max_zoom",
              "min_native_zoom",
              "min_zoom",
              "no_wrap",
              "tile_size",
              "tms",
              "zoom_offset"
            ],
            "pane": "",
            "popup": null,
            "popup_max_height": null,
            "popup_max_width": 300,
            "popup_min_width": 50,
            "show_loading": false,
            "subitems": [],
            "tile_size": 256,
            "tms": false,
            "url": "https://stamen-tiles-a.a.ssl.fastly.net/watercolor/{z}/{x}/{y}.jpg",
            "visible": true,
            "zoom_offset": 0
          }
        },
        "6d950450ff914c31be65cfae4b23fdfc": {
          "model_module": "jupyter-leaflet",
          "model_name": "LeafletTileLayerModel",
          "model_module_version": "^0.17",
          "state": {
            "_model_module": "jupyter-leaflet",
            "_model_module_version": "^0.17",
            "_model_name": "LeafletTileLayerModel",
            "_view_count": null,
            "_view_module": "jupyter-leaflet",
            "_view_module_version": "^0.17",
            "_view_name": "LeafletTileLayerView",
            "attribution": null,
            "base": false,
            "bottom": true,
            "bounds": null,
            "detect_retina": false,
            "loading": false,
            "max_native_zoom": null,
            "max_zoom": 18,
            "min_native_zoom": null,
            "min_zoom": 0,
            "name": "elevation [meters]",
            "no_wrap": false,
            "opacity": 1,
            "options": [
              "attribution",
              "bounds",
              "detect_retina",
              "max_native_zoom",
              "max_zoom",
              "min_native_zoom",
              "min_zoom",
              "no_wrap",
              "tile_size",
              "tms",
              "zoom_offset"
            ],
            "pane": "",
            "popup": null,
            "popup_max_height": null,
            "popup_max_width": 300,
            "popup_min_width": 50,
            "show_loading": false,
            "subitems": [],
            "tile_size": 256,
            "tms": false,
            "url": "https://earthengine.googleapis.com/v1alpha/projects/earthengine-legacy/maps/610a63d42e5017592a00c9764f3167fa-3ddd2a22bbf9e236cd0a31c7d687b860/tiles/{z}/{x}/{y}",
            "visible": true,
            "zoom_offset": 0
          }
        },
        "8a6991d2d33f466f95192cebfe8b595a": {
          "model_module": "@jupyter-widgets/base",
          "model_name": "LayoutModel",
          "model_module_version": "1.2.0",
          "state": {
            "_model_module": "@jupyter-widgets/base",
            "_model_module_version": "1.2.0",
            "_model_name": "LayoutModel",
            "_view_count": null,
            "_view_module": "@jupyter-widgets/base",
            "_view_module_version": "1.2.0",
            "_view_name": "LayoutView",
            "align_content": null,
            "align_items": null,
            "align_self": null,
            "border": null,
            "bottom": null,
            "display": null,
            "flex": null,
            "flex_flow": null,
            "grid_area": null,
            "grid_auto_columns": null,
            "grid_auto_flow": null,
            "grid_auto_rows": null,
            "grid_column": null,
            "grid_gap": null,
            "grid_row": null,
            "grid_template_areas": null,
            "grid_template_columns": null,
            "grid_template_rows": null,
            "height": null,
            "justify_content": null,
            "justify_items": null,
            "left": null,
            "margin": null,
            "max_height": null,
            "max_width": null,
            "min_height": null,
            "min_width": null,
            "object_fit": null,
            "object_position": null,
            "order": null,
            "overflow": null,
            "overflow_x": null,
            "overflow_y": null,
            "padding": null,
            "right": null,
            "top": null,
            "visibility": null,
            "width": "100%"
          }
        },
        "50f9db25d7724f15a8202dfe4e944224": {
          "model_module": "jupyter-leaflet",
          "model_name": "LeafletMapStyleModel",
          "model_module_version": "^0.17",
          "state": {
            "_model_module": "jupyter-leaflet",
            "_model_module_version": "^0.17",
            "_model_name": "LeafletMapStyleModel",
            "_view_count": null,
            "_view_module": "@jupyter-widgets/base",
            "_view_module_version": "1.2.0",
            "_view_name": "StyleView",
            "cursor": "grab"
          }
        }
      }
    }
  },
  "cells": [
    {
      "cell_type": "code",
      "execution_count": 1,
      "metadata": {
        "colab": {
          "base_uri": "https://localhost:8080/"
        },
        "id": "AGAAZcB76xJ0",
        "outputId": "2bca9549-9646-4780-f3db-fed43385d9fa"
      },
      "outputs": [
        {
          "output_type": "stream",
          "name": "stdout",
          "text": [
            "ee_jupyter was already installed.\n"
          ]
        }
      ],
      "source": [
        "# earth engine jupyter အား install ပြုလုပ်ခြင်း\n",
        "try:\n",
        "  import ee_jupyter\n",
        "  print('ee_jupyter was already installed.')\n",
        "except ModuleNotFoundError:\n",
        "  print('ee_jupyter was not found. Installing now...')\n",
        "  import os\n",
        "  result = os.system('pip -q install earthengine-jupyter')"
      ]
    },
    {
      "cell_type": "markdown",
      "source": [
        "# earth engine နဲ့ လိုအပ်သော libraries များအား import လုပ်ခြင်း"
      ],
      "metadata": {
        "id": "LGqdWLPGJU2y"
      }
    },
    {
      "cell_type": "code",
      "source": [
        "# earth engine account အား access လုပ်ခြင်း\n",
        "import ee\n",
        "\n",
        "# Trigger the authentication flow.\n",
        "ee.Authenticate()\n",
        "\n",
        "# Initialize the library.\n",
        "ee.Initialize()"
      ],
      "metadata": {
        "colab": {
          "base_uri": "https://localhost:8080/"
        },
        "id": "ft5A0wlS8Ns0",
        "outputId": "50909f35-9526-4497-bd64-5e3b688ffabc"
      },
      "execution_count": 2,
      "outputs": [
        {
          "output_type": "stream",
          "name": "stdout",
          "text": [
            "To authorize access needed by Earth Engine, open the following URL in a web browser and follow the instructions. If the web browser does not start automatically, please manually browse the URL below.\n",
            "\n",
            "    https://code.earthengine.google.com/client-auth?scopes=https%3A//www.googleapis.com/auth/earthengine%20https%3A//www.googleapis.com/auth/devstorage.full_control&request_id=46TxThgjC41AAT8w6P37_oN9m_l4KyQaqtxFZlGi-jI&tc=9jolREm66xZfkRBKUw87YC0SFiHZBG0cu7hHY1txcdA&cc=gxKxMZa1iyrhI6gNxFap3z65hB0XnUoJMsIW-6bF2pA\n",
            "\n",
            "The authorization workflow will generate a code, which you should paste in the box below.\n",
            "Enter verification code: 4/1AfgeXvsGRRX2N_52g3ODId_BPCIUs6Q086iRHqrXLhN1G7wh-uhG298AZwM\n",
            "\n",
            "Successfully saved authorization token.\n"
          ]
        }
      ]
    },
    {
      "cell_type": "code",
      "source": [
        "import altair as alt\n",
        "from ee_jupyter.colab import set_colab_output_cell_height\n",
        "from ee_jupyter.ipyleaflet import Map\n",
        "from ee_jupyter.ipyleaflet import Inspector\n",
        "from ee_jupyter.layout import MapWithInspector as MapPlus\n",
        "import ipyleaflet\n",
        "import ipywidgets as widgets\n",
        "from IPython.display import HTML\n",
        "import math\n",
        "import numpy as np\n",
        "import pandas as pd\n",
        "from pprint import pprint"
      ],
      "metadata": {
        "id": "ZquvHuX2Fc-N"
      },
      "execution_count": 3,
      "outputs": []
    },
    {
      "cell_type": "markdown",
      "source": [
        "## DEM အားအသုံးပြုခြင်း"
      ],
      "metadata": {
        "id": "WaNo0GY1JX65"
      }
    },
    {
      "cell_type": "code",
      "source": [
        "dem=ee.Image('CGIAR/SRTM90_V4')"
      ],
      "metadata": {
        "id": "TFSFjDp08fmA"
      },
      "execution_count": 4,
      "outputs": []
    },
    {
      "cell_type": "code",
      "source": [
        "set_colab_output_cell_height(300)\n",
        "pprint(dem.getInfo())"
      ],
      "metadata": {
        "colab": {
          "base_uri": "https://localhost:8080/",
          "height": 300
        },
        "id": "ZXhu-DhrAv_6",
        "outputId": "66a2f940-d2f1-4a17-b473-270ccb4f9f4d"
      },
      "execution_count": 5,
      "outputs": [
        {
          "output_type": "display_data",
          "data": {
            "text/plain": [
              "<IPython.core.display.Javascript object>"
            ],
            "application/javascript": [
              "google.colab.output.setIframeHeight(0, true, {maxHeight: 300})"
            ]
          },
          "metadata": {}
        },
        {
          "output_type": "stream",
          "name": "stdout",
          "text": [
            "{'bands': [{'crs': 'EPSG:4326',\n",
            "            'crs_transform': [0.000833333333333,\n",
            "                              0,\n",
            "                              -180,\n",
            "                              0,\n",
            "                              -0.000833333333333,\n",
            "                              60],\n",
            "            'data_type': {'max': 32767,\n",
            "                          'min': -32768,\n",
            "                          'precision': 'int',\n",
            "                          'type': 'PixelType'},\n",
            "            'dimensions': [432000, 144000],\n",
            "            'id': 'elevation'}],\n",
            " 'id': 'CGIAR/SRTM90_V4',\n",
            " 'properties': {'date_range': [950227200000, 951177600000],\n",
            "                'description': '<p>The Shuttle Radar Topography Mission (SRTM) '\n",
            "                               'digital\\n'\n",
            "                               'elevation dataset was originally produced to '\n",
            "                               'provide consistent,\\n'\n",
            "                               'high-quality elevation data at near global '\n",
            "                               'scope. This version\\n'\n",
            "                               'of the SRTM digital elevation data has been '\n",
            "                               'processed to fill data\\n'\n",
            "                               'voids, and to facilitate its ease of '\n",
            "                               'use.</p><p><b>Provider: <a '\n",
            "                               'href=\"https://srtm.csi.cgiar.org/\">NASA/CGIAR</a></b><br><p><b>Bands</b><table '\n",
            "                               'class=\"eecat\"><tr><th scope=\"col\">Name</th><th '\n",
            "                               'scope=\"col\">Description</th></tr><tr><td>elevation</td><td><p>Elevation</p></td></tr></table><p><b>Terms '\n",
            "                               'of Use</b><br><p>DISTRIBUTION. Users are '\n",
            "                               'prohibited from any commercial, non-free '\n",
            "                               'resale, or\\n'\n",
            "                               'redistribution without explicit written '\n",
            "                               'permission from CIAT. Users should\\n'\n",
            "                               'acknowledge CIAT as the source used in the '\n",
            "                               'creation of any reports,\\n'\n",
            "                               'publications, new datasets, derived products, '\n",
            "                               'or services resulting from the\\n'\n",
            "                               'use of this dataset. CIAT also request '\n",
            "                               'reprints of any publications and\\n'\n",
            "                               'notification of any redistributing efforts. '\n",
            "                               'For commercial access to\\n'\n",
            "                               'the data, send requests to <a '\n",
            "                               'href=\"mailto:a.jarvis@cgiar.org\">Andy '\n",
            "                               'Jarvis</a>.</p><p>NO WARRANTY OR LIABILITY. '\n",
            "                               'CIAT provides these data without any warranty '\n",
            "                               'of\\n'\n",
            "                               'any kind whatsoever, either express or '\n",
            "                               'implied, including warranties of\\n'\n",
            "                               'merchantability and fitness for a particular '\n",
            "                               'purpose. CIAT shall not be\\n'\n",
            "                               'liable for incidental, consequential, or '\n",
            "                               'special damages arising out of\\n'\n",
            "                               'the use of any data.</p><p>ACKNOWLEDGMENT AND '\n",
            "                               'CITATION. Any users are kindly asked to cite '\n",
            "                               'this data\\n'\n",
            "                               'in any published material produced using this '\n",
            "                               'data, and if possible link\\n'\n",
            "                               'web pages to the <a '\n",
            "                               'href=\"https://srtm.csi.cgiar.org\">CIAT-CSI '\n",
            "                               'SRTM website</a>.</p><p><b>Suggested '\n",
            "                               'citation(s)</b><ul><li><p>Jarvis, A., H.I. '\n",
            "                               'Reuter, A. Nelson, E. Guevara. 2008. '\n",
            "                               'Hole-filled\\n'\n",
            "                               'SRTM for the globe Version 4, available from '\n",
            "                               'the CGIAR-CSI SRTM\\n'\n",
            "                               '90m Database: '\n",
            "                               'https://srtm.csi.cgiar.org.</p></li></ul><style>\\n'\n",
            "                               '  table.eecat {\\n'\n",
            "                               '  border: 1px solid black;\\n'\n",
            "                               '  border-collapse: collapse;\\n'\n",
            "                               '  font-size: 13px;\\n'\n",
            "                               '  }\\n'\n",
            "                               '  table.eecat td, tr, th {\\n'\n",
            "                               '  text-align: left; vertical-align: top;\\n'\n",
            "                               '  border: 1px solid gray; padding: 3px;\\n'\n",
            "                               '  }\\n'\n",
            "                               '  td.nobreak { white-space: nowrap; }\\n'\n",
            "                               '</style>',\n",
            "                'keywords': ['cgiar',\n",
            "                             'dem',\n",
            "                             'elevation',\n",
            "                             'geophysical',\n",
            "                             'srtm',\n",
            "                             'topography'],\n",
            "                'period': 0,\n",
            "                'product_tags': ['srtm',\n",
            "                                 'elevation',\n",
            "                                 'topography',\n",
            "                                 'dem',\n",
            "                                 'geophysical'],\n",
            "                'provider': 'NASA/CGIAR',\n",
            "                'provider_url': 'https://srtm.csi.cgiar.org/',\n",
            "                'sample': 'https://mw1.google.com/ges/dd/images/SRTM90_V4_sample.png',\n",
            "                'source_tags': ['cgiar'],\n",
            "                'system:asset_size': 18827626666,\n",
            "                'system:time_end': 951177600000,\n",
            "                'system:time_start': 950227200000,\n",
            "                'system:visualization_0_bands': 'elevation',\n",
            "                'system:visualization_0_gamma': 1.6,\n",
            "                'system:visualization_0_max': '8000.0',\n",
            "                'system:visualization_0_min': '-100.0',\n",
            "                'system:visualization_0_name': 'Elevation',\n",
            "                'tags': ['cgiar',\n",
            "                         'dem',\n",
            "                         'elevation',\n",
            "                         'geophysical',\n",
            "                         'srtm',\n",
            "                         'topography'],\n",
            "                'thumb': 'https://mw1.google.com/ges/dd/images/SRTM90_V4_thumb.png',\n",
            "                'title': 'SRTM Digital Elevation Data Version 4',\n",
            "                'type_name': 'Image',\n",
            "                'visualization_0_bands': 'elevation',\n",
            "                'visualization_0_max': '8000.0',\n",
            "                'visualization_0_min': '-100.0',\n",
            "                'visualization_0_name': 'Elevation'},\n",
            " 'type': 'Image',\n",
            " 'version': 1641990053291277}\n"
          ]
        }
      ]
    },
    {
      "cell_type": "code",
      "source": [
        "location=[24.18222,96.33056] #katha township location\n",
        "map_init_params={\n",
        "    'center':list(location), #lat,lon\n",
        "    'zoom':10\n",
        "}"
      ],
      "metadata": {
        "id": "tll0VU7pBb2m"
      },
      "execution_count": 6,
      "outputs": []
    },
    {
      "cell_type": "code",
      "source": [
        "map1=Map(**map_init_params)\n",
        "map1"
      ],
      "metadata": {
        "colab": {
          "base_uri": "https://localhost:8080/",
          "height": 441,
          "referenced_widgets": [
            "fa1a4f73cb1e48c9839b63e410c20d9e",
            "75133c9f60f948d991d684d51e03d0e2",
            "764054201625476791ad1ef2fc225373",
            "147d5defc4574ceaa5aca768e0d8430f",
            "722e9689f749429cbb35706ec7d922ac",
            "700b12f6f84e4be4a9a6528d12182952",
            "25ad95e9af6c4b83a2027421ee7555dc",
            "905d1aeb81334b91a23e1e08ddfb2a3e",
            "d219184d69f74ea1bb531115140963e4",
            "f85fcb9066ec4086b9ea88dee8833a25",
            "5df4a9f4559d4839af6d4066c1c1e989"
          ]
        },
        "id": "N71TQVKgHnxn",
        "outputId": "bf8c6042-61b9-4812-ae57-9d250a62bf05"
      },
      "execution_count": 7,
      "outputs": [
        {
          "output_type": "display_data",
          "data": {
            "text/plain": [
              "Map(center=[24.18222, 96.33056], controls=(ZoomControl(options=['position', 'zoom_in_text', 'zoom_in_title', '…"
            ],
            "application/vnd.jupyter.widget-view+json": {
              "version_major": 2,
              "version_minor": 0,
              "model_id": "fa1a4f73cb1e48c9839b63e410c20d9e"
            }
          },
          "metadata": {
            "application/vnd.jupyter.widget-view+json": {
              "colab": {
                "custom_widget_manager": {
                  "url": "https://ssl.gstatic.com/colaboratory-static/widgets/colab-cdn-widget-manager/d2e234f7cc04bf79/manager.min.js"
                }
              }
            }
          }
        }
      ]
    },
    {
      "cell_type": "code",
      "source": [
        "# ပထမလုပ်ထားတဲ့ နေရာကို layer အသစ်ပေါင်းထည့်ခြင်း\n",
        "map1.addLayer(dem,{'min':0,'max':1000},'elevation(greyscale)')"
      ],
      "metadata": {
        "id": "GGKH6pczHz8S"
      },
      "execution_count": 8,
      "outputs": []
    },
    {
      "cell_type": "code",
      "source": [
        "map1.addLayer(\n",
        "    dem,\n",
        "    {'min':0,'max':1000,'palette':['grey','yellow','red']},\n",
        "    'elevation(custom palette)'\n",
        ")"
      ],
      "metadata": {
        "id": "vw7Q2QqvIjTg"
      },
      "execution_count": 9,
      "outputs": []
    },
    {
      "cell_type": "markdown",
      "source": [
        "## computation using images"
      ],
      "metadata": {
        "id": "_BNflrA4fzRH"
      }
    },
    {
      "cell_type": "code",
      "source": [
        "# apply an algorithm to an image\n",
        "slope=ee.Terrain.slope(dem)"
      ],
      "metadata": {
        "id": "66fdV6cxfynQ"
      },
      "execution_count": 10,
      "outputs": []
    },
    {
      "cell_type": "code",
      "source": [
        "#  display\n",
        "map2a=Map(**map_init_params)\n",
        "map2a.addLayer(dem,{'min':0,'max':1000},'elevation[meters]')"
      ],
      "metadata": {
        "id": "in4tKZRSI_p3"
      },
      "execution_count": 11,
      "outputs": []
    },
    {
      "cell_type": "code",
      "source": [
        "# slope is calculated in degrees so 30 degrees was chosen as the max for this\n",
        "# area. In general, is rare to go above 45 degrees.\n",
        "map2a.addLayer(slope,{'min':0,'max':45},'slope[degrees')\n",
        "map2a"
      ],
      "metadata": {
        "colab": {
          "base_uri": "https://localhost:8080/",
          "height": 441,
          "referenced_widgets": [
            "76fdd9839da743e5867679cf69ef5666",
            "df2c2168a68945ba805dc0afb6a6ac80",
            "752c3e08db894b8e886a37bb20eb1600",
            "9026335ecab740c7a839f3c6a982adb5",
            "4e75c477a91a4c91be1933e26fef47e3",
            "d5e00bd9356c4db09c72edd4b3647371",
            "4e616c87da5c4b9d9ade97bfa90fb557",
            "d13eb571a6554b45ae26f2cebd5f03c5",
            "6116b66c95ea40d58801284376ede06d",
            "187804cca90f44b69f75ee7d155ef77d",
            "7a8ac33b505a497ca85777a7d2aadad9"
          ]
        },
        "id": "_L-88GyNiG_T",
        "outputId": "f86f5944-a9dd-41dc-ddb3-38e67be20dcc"
      },
      "execution_count": 12,
      "outputs": [
        {
          "output_type": "display_data",
          "data": {
            "text/plain": [
              "Map(center=[24.18222, 96.33056], controls=(ZoomControl(options=['position', 'zoom_in_text', 'zoom_in_title', '…"
            ],
            "application/vnd.jupyter.widget-view+json": {
              "version_major": 2,
              "version_minor": 0,
              "model_id": "76fdd9839da743e5867679cf69ef5666"
            }
          },
          "metadata": {
            "application/vnd.jupyter.widget-view+json": {
              "colab": {
                "custom_widget_manager": {
                  "url": "https://ssl.gstatic.com/colaboratory-static/widgets/colab-cdn-widget-manager/d2e234f7cc04bf79/manager.min.js"
                }
              }
            }
          }
        }
      ]
    },
    {
      "cell_type": "markdown",
      "source": [
        "## Using Map Inspector"
      ],
      "metadata": {
        "id": "LEQbAL3-kDin"
      }
    },
    {
      "cell_type": "code",
      "source": [
        "inspector2a=Inspector(map2a)\n",
        "widgets.HBox([map2a,inspector2a])"
      ],
      "metadata": {
        "colab": {
          "base_uri": "https://localhost:8080/",
          "height": 421,
          "referenced_widgets": [
            "51297b92e55945c9910227a6e0d3a15b",
            "76fdd9839da743e5867679cf69ef5666",
            "b583100dda714d59b7d80d4b117db2d5",
            "2c1019ef90774f9ea90bfd8a7c219c4f",
            "df2c2168a68945ba805dc0afb6a6ac80",
            "752c3e08db894b8e886a37bb20eb1600",
            "9026335ecab740c7a839f3c6a982adb5",
            "4e75c477a91a4c91be1933e26fef47e3",
            "d5e00bd9356c4db09c72edd4b3647371",
            "4e616c87da5c4b9d9ade97bfa90fb557",
            "d13eb571a6554b45ae26f2cebd5f03c5",
            "6116b66c95ea40d58801284376ede06d",
            "187804cca90f44b69f75ee7d155ef77d",
            "7a8ac33b505a497ca85777a7d2aadad9",
            "9e2367ad7188467aa2460f7118d85b4e",
            "6744898ee5a244a09ee4354e2da977e7",
            "39069e8572114a0498726d7949d337e9",
            "8d9731c4fa8f46de8f6c523359613f11"
          ]
        },
        "id": "mY_gKsDsi2fH",
        "outputId": "ae202ab6-27c3-40c4-a448-27f299e54689"
      },
      "execution_count": 13,
      "outputs": [
        {
          "output_type": "display_data",
          "data": {
            "text/plain": [
              "HBox(children=(Map(center=[24.18222, 96.33056], controls=(ZoomControl(options=['position', 'zoom_in_text', 'zo…"
            ],
            "application/vnd.jupyter.widget-view+json": {
              "version_major": 2,
              "version_minor": 0,
              "model_id": "51297b92e55945c9910227a6e0d3a15b"
            }
          },
          "metadata": {
            "application/vnd.jupyter.widget-view+json": {
              "colab": {
                "custom_widget_manager": {
                  "url": "https://ssl.gstatic.com/colaboratory-static/widgets/colab-cdn-widget-manager/d2e234f7cc04bf79/manager.min.js"
                }
              }
            }
          }
        }
      ]
    },
    {
      "cell_type": "code",
      "source": [
        "# နောက်ထပ် layer ထည့်နည်း\n",
        "map_panel_2=MapPlus(**map_init_params)\n",
        "map_panel_2.map.addLayer(dem,{'min':0,'max':1000},'elevation[meters]')\n",
        "map_panel_2.map.addLayer(slope,{'min':0,'max':30},'slope [degrees]')\n",
        "map_panel_2"
      ],
      "metadata": {
        "colab": {
          "base_uri": "https://localhost:8080/",
          "height": 464,
          "referenced_widgets": [
            "5012d40ffd564928b2cd2b76ce07ded2",
            "e74e98c7287442e69d77f31f5ed730a7",
            "a20a4b407618494db889e3c3c6401733",
            "d6d1a346bb8944f6bfe8df65f57753a3",
            "67d3b83cdf944f16a5dc01c2ca1f7e2d",
            "e21f13d38ad544af91c91d231a372781",
            "67719082c7fd4dc0b0f11a7d3f07aa34",
            "4065fd12667e43048c83d75b43fa669a",
            "69364bf7c42b428b9f5748c207474bc8",
            "8d1baca882574514a0103aba5235a5d6",
            "aff61ef9ecff4f088ddd0b200e202ae1",
            "b251e30cc00e4eaa8e7dedcc3bc58006",
            "c05d509ab2a94360b8a4211f84c77fb0",
            "6befd1efa285413bbccb96c5323a6dcf",
            "ccea4db15d3e4756befebb69a0ada3be",
            "1d967cde1b1e468aa3648f38780795f8",
            "ce619d36d3a64cdf9015b77272e1d3fe",
            "33b8961b4f93424b9aedffbbc66838d3",
            "00e34f41f1a54c0ebeda2e1757026925",
            "14f509196dfc4a10acd61857083b6235",
            "fa20c75c654a491b83e6a719014da7ff",
            "2e1337c399904366ba93fae9ed1308bb",
            "7397fb2560334bfe833fa3c0548dee3b",
            "95cd984b0c284fd3b98c5dc433e1a062",
            "e9bf991c3e764f6f840454a8ab330774",
            "91dfe5a3859847f8a8e02e315b16b37c",
            "729540e8195b4eed8ed4429cfc516233"
          ]
        },
        "id": "C1uxuYCykX9z",
        "outputId": "7687f0f4-3671-40f4-ab28-3f8cfe46780f"
      },
      "execution_count": 14,
      "outputs": [
        {
          "output_type": "display_data",
          "data": {
            "text/plain": [
              "MapWithInspector(children=(HBox(children=(Map(center=[24.18222, 96.33056], controls=(ZoomControl(options=['pos…"
            ],
            "application/vnd.jupyter.widget-view+json": {
              "version_major": 2,
              "version_minor": 0,
              "model_id": "5012d40ffd564928b2cd2b76ce07ded2"
            }
          },
          "metadata": {
            "application/vnd.jupyter.widget-view+json": {
              "colab": {
                "custom_widget_manager": {
                  "url": "https://ssl.gstatic.com/colaboratory-static/widgets/colab-cdn-widget-manager/d2e234f7cc04bf79/manager.min.js"
                }
              }
            }
          }
        }
      ]
    },
    {
      "cell_type": "markdown",
      "source": [
        "## Aspect"
      ],
      "metadata": {
        "id": "wPASZqmvnEQ3"
      }
    },
    {
      "cell_type": "markdown",
      "source": [
        "The aspect is the orientation of the slope, measured clockwise in degrees from 0 to 360, where 0 is north-facing, 90 is east-facing, 180 is south-facing and 270 is west-facing."
      ],
      "metadata": {
        "id": "S0LvT97BnKFu"
      }
    },
    {
      "cell_type": "code",
      "source": [
        "aspect=ee.Terrain.aspect(dem)"
      ],
      "metadata": {
        "id": "T4LxUd_CnIK3"
      },
      "execution_count": 15,
      "outputs": []
    },
    {
      "cell_type": "code",
      "source": [
        "# convert to radians, compute the sine of the aspect\n",
        "sinImage=aspect.divide(180).multiply(np.pi).sin()"
      ],
      "metadata": {
        "id": "NMUQ4H-doRCj"
      },
      "execution_count": 16,
      "outputs": []
    },
    {
      "cell_type": "code",
      "source": [
        "# Display maps side-by-side"
      ],
      "metadata": {
        "id": "_vo1DKysoc2z"
      },
      "execution_count": 17,
      "outputs": []
    },
    {
      "cell_type": "code",
      "source": [
        "map_params_mount_popa={\n",
        "    'center':(20.921162982,95.250332332),\n",
        "    'zoom':10\n",
        "}\n",
        "map2b=Map(**map_params_mount_popa)\n",
        "map2b.addLayer(dem,{'min':0,'max':4000},'elevation [meters]')\n",
        "map2c=Map(**map_params_mount_popa)\n",
        "map2c.addLayer(\n",
        "    sinImage,\n",
        "    {'min':-1,'max':1,'palette':['yellow','white','red']},\n",
        "    'sine of aspect'\n",
        ")\n",
        "# west...yellow, white.....north/south, east.......red\n",
        "widgets.HBox([map2b,map2c])"
      ],
      "metadata": {
        "colab": {
          "base_uri": "https://localhost:8080/",
          "height": 421,
          "referenced_widgets": [
            "780c894c0ffe4487917584e5951f1f51",
            "c9fdc288e2d743249b3818e060658031",
            "e0e26906cc4d4fac9bb7889a147c81ca",
            "33058dd7f9c54018967a35630f5cc0b2",
            "513f5d148ef843189aa212fdd92e007a",
            "de06f3905ef847f1a85d02ea7fc5e0e8",
            "f9f1c24abbf9439884236b90f45d05cc",
            "644dffd7555447d29e93c89ca7e45418",
            "d9b5c240a82e4681a09d77b840fdbd99",
            "5ae341cfde274be79f16668367962090",
            "e97ccb477d5b48dd81aeda5aefda3b11",
            "59f7afe0d3a9428e8f62feaa7324bd46",
            "2cd48d3c62674c1cbbd02f2c70d41527",
            "ab304dd7613d45988e544a5521aa9b57",
            "c4da94bbde354db3b6ea57c542990c2e",
            "96a949609a49436aa390ba00d6299071",
            "6c2b4730b23244ad896be0e6c4d22c8d",
            "f2998038035d427f9f38d6b5bb976486",
            "6e0c51dcee354ec8b6e00a0e4926c3f2",
            "676d52e0b4ef47968a6d1f223cfa1f09",
            "82dfa8e0d47444a6b1cd040e5544d878",
            "4fb402ce1b2340f88defba30a0fb523a"
          ]
        },
        "id": "RDnkDQRkolIx",
        "outputId": "a20f74f4-b25d-45c4-a621-766eea5e04aa"
      },
      "execution_count": 18,
      "outputs": [
        {
          "output_type": "display_data",
          "data": {
            "text/plain": [
              "HBox(children=(Map(center=[20.921162982, 95.250332332], controls=(ZoomControl(options=['position', 'zoom_in_te…"
            ],
            "application/vnd.jupyter.widget-view+json": {
              "version_major": 2,
              "version_minor": 0,
              "model_id": "780c894c0ffe4487917584e5951f1f51"
            }
          },
          "metadata": {
            "application/vnd.jupyter.widget-view+json": {
              "colab": {
                "custom_widget_manager": {
                  "url": "https://ssl.gstatic.com/colaboratory-static/widgets/colab-cdn-widget-manager/d2e234f7cc04bf79/manager.min.js"
                }
              }
            }
          }
        }
      ]
    },
    {
      "cell_type": "code",
      "source": [
        "# center အားပြန်ကြည့်ခြင်း\n",
        "map2b.center"
      ],
      "metadata": {
        "colab": {
          "base_uri": "https://localhost:8080/"
        },
        "id": "HloeiqZcp36_",
        "outputId": "74fb0deb-4c3c-485b-acf1-4438c854de86"
      },
      "execution_count": 19,
      "outputs": [
        {
          "output_type": "execute_result",
          "data": {
            "text/plain": [
              "[20.921162982, 95.250332332]"
            ]
          },
          "metadata": {},
          "execution_count": 19
        }
      ]
    },
    {
      "cell_type": "markdown",
      "source": [
        "### Image statistics"
      ],
      "metadata": {
        "id": "BDYJsM3wrqX_"
      }
    },
    {
      "cell_type": "code",
      "source": [
        "# use ipyleaflet to add the ability to draw a geometry on map\n",
        "draw_control=ipyleaflet.DrawControl(\n",
        "    rectangle={},\n",
        "    polyline={},\n",
        "    circlemarker={}\n",
        ")\n",
        "def handle_draw(target,action,geo_json):\n",
        "  with output:\n",
        "    output.clear_output()\n",
        "    pprint(geo_json)\n",
        "  draw_control.on_draw(handle_draw)\n",
        "\n",
        "map2d=Map(**map_init_params)\n",
        "output=widgets.Output(layout={'border':'1px solid black','width':'200'})\n",
        "map2d.addLayer(dem,{'min':0,'max':1000},'elevation [meters]')\n",
        "map2d.add_control(draw_control)\n",
        "widgets.VBox([map2d,output])"
      ],
      "metadata": {
        "colab": {
          "base_uri": "https://localhost:8080/",
          "height": 432,
          "referenced_widgets": [
            "8ce19e40c616452680dd877e6167cab1",
            "a5ea3d4a53c54342a3979796b53d0b8d",
            "ddcd584d19db48d2a4fd4c601b306154",
            "8a6296dd119348648eb1e3bc4122b09c",
            "76529fd4f868426fb9ca2db86fa9a964",
            "7418589026c549f19d5ab1f337d9b1a0",
            "12c880fa4bdd47a2a2036a6f91af64f8",
            "975ec1a61d634e169a4dabc5c11ccca5",
            "2f1abab01d7d4da091f2f33ffa583716",
            "6c43b57886d043e990ae58317c828172",
            "2783f66f5bc4424f8a344e6fc70ebda4",
            "36bf0c4552014ea49dd28ec1651e54dc",
            "6d950450ff914c31be65cfae4b23fdfc",
            "8a6991d2d33f466f95192cebfe8b595a",
            "50f9db25d7724f15a8202dfe4e944224"
          ]
        },
        "id": "EejiEDK-rpyv",
        "outputId": "3f1c5a82-c709-4361-cc62-2ab7099a2f25"
      },
      "execution_count": 20,
      "outputs": [
        {
          "output_type": "display_data",
          "data": {
            "text/plain": [
              "VBox(children=(Map(center=[24.18222, 96.33056], controls=(ZoomControl(options=['position', 'zoom_in_text', 'zo…"
            ],
            "application/vnd.jupyter.widget-view+json": {
              "version_major": 2,
              "version_minor": 0,
              "model_id": "8ce19e40c616452680dd877e6167cab1"
            }
          },
          "metadata": {
            "application/vnd.jupyter.widget-view+json": {
              "colab": {
                "custom_widget_manager": {
                  "url": "https://ssl.gstatic.com/colaboratory-static/widgets/colab-cdn-widget-manager/d2e234f7cc04bf79/manager.min.js"
                }
              }
            }
          }
        }
      ]
    },
    {
      "cell_type": "code",
      "source": [
        "geom_clientside=draw_control.last_draw['geometry']\n",
        "geom_clientside"
      ],
      "metadata": {
        "colab": {
          "base_uri": "https://localhost:8080/"
        },
        "id": "RMFNwr5vqzs2",
        "outputId": "dad245f1-a45a-468b-c134-cb86235dd932"
      },
      "execution_count": 26,
      "outputs": [
        {
          "output_type": "execute_result",
          "data": {
            "text/plain": [
              "{'type': 'Polygon',\n",
              " 'coordinates': [[[96.265869, 24.261768],\n",
              "   [96.262207, 24.342704],\n",
              "   [96.373901, 24.35605],\n",
              "   [96.405945, 24.310169],\n",
              "   [96.38855, 24.260933],\n",
              "   [96.378479, 24.23923],\n",
              "   [96.265869, 24.261768]]]}"
            ]
          },
          "metadata": {},
          "execution_count": 26
        }
      ]
    },
    {
      "cell_type": "markdown",
      "source": [
        "##  Spatial reduction: calculate stats for custom geometry"
      ],
      "metadata": {
        "id": "K74kJTPnuYHd"
      }
    },
    {
      "cell_type": "code",
      "source": [
        "# create an earth engine server-side geometry\n",
        "geom=ee.Geometry(geom_clientside)"
      ],
      "metadata": {
        "id": "a2FBAlSCt8CN"
      },
      "execution_count": 27,
      "outputs": []
    },
    {
      "cell_type": "code",
      "source": [
        "# compute mean elevation in the polygon\n",
        "meandict=dem.reduceRegion(\n",
        "    reducer=ee.Reducer.mean(),\n",
        "    geometry=geom,\n",
        "    scale=90,\n",
        "    bestEffort=True\n",
        ")\n",
        "\n",
        "# get the mean from the dictionary and print it\n",
        "mean=meandict.get('elevation')\n",
        "print('Mean elevation',mean.getInfo())"
      ],
      "metadata": {
        "colab": {
          "base_uri": "https://localhost:8080/"
        },
        "id": "t3bih2bUuUyE",
        "outputId": "85f55d30-81de-4b52-b14f-5e3ced5ec8d0"
      },
      "execution_count": 28,
      "outputs": [
        {
          "output_type": "stream",
          "name": "stdout",
          "text": [
            "Mean elevation 295.54582207295994\n"
          ]
        }
      ]
    }
  ]
}